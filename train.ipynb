{
 "cells": [
  {
   "cell_type": "code",
   "execution_count": 1,
   "id": "8a491c33",
   "metadata": {},
   "outputs": [
    {
     "name": "stderr",
     "output_type": "stream",
     "text": [
      "c:\\Users\\Simon\\miniconda3\\envs\\RP\\Lib\\site-packages\\tqdm\\auto.py:21: TqdmWarning: IProgress not found. Please update jupyter and ipywidgets. See https://ipywidgets.readthedocs.io/en/stable/user_install.html\n",
      "  from .autonotebook import tqdm as notebook_tqdm\n"
     ]
    }
   ],
   "source": [
    "%load_ext autoreload\n",
    "%autoreload 2\n",
    "\n",
    "from boolrank import *\n",
    "from my_processing import paths_to_dataset\n",
    "import numpy as np\n",
    "\n",
    "loss = \"siglip\"\n",
    "# loss = \"clip\"\n",
    "\n",
    "# model = DualSiglip2Model('BAAI/llm-embedder', loss)\n",
    "model = DualSiglip2Model('BAAI/bge-small-en-v1.5', loss)\n",
    "# model = DualSiglip2Model('dmis-lab/biobert-v1.1', loss)"
   ]
  },
  {
   "cell_type": "code",
   "execution_count": 3,
   "id": "e2a6f770",
   "metadata": {},
   "outputs": [
    {
     "name": "stdout",
     "output_type": "stream",
     "text": [
      "data/training.jsonl\n"
     ]
    },
    {
     "name": "stderr",
     "output_type": "stream",
     "text": [
      "c:\\Users\\Simon\\Documents\\Ordner\\Uni\\Master\\25-Sommer\\Research Project\\project-doehl-boolean-clip\\my_processing.py:24: FutureWarning: Passing literal json to 'read_json' is deprecated and will be removed in a future version. To read from a literal string, wrap it in a 'StringIO' object.\n",
      "  df = pd.read_json(path, lines=True)\n"
     ]
    },
    {
     "ename": "ValueError",
     "evalue": "Expected object or value",
     "output_type": "error",
     "traceback": [
      "\u001b[31m---------------------------------------------------------------------------\u001b[39m",
      "\u001b[31mValueError\u001b[39m                                Traceback (most recent call last)",
      "\u001b[36mCell\u001b[39m\u001b[36m \u001b[39m\u001b[32mIn[3]\u001b[39m\u001b[32m, line 19\u001b[39m\n\u001b[32m     17\u001b[39m train_sources = [\u001b[33m'\u001b[39m\u001b[33mpubmed-searchrefiner\u001b[39m\u001b[33m'\u001b[39m]\n\u001b[32m     18\u001b[39m \u001b[38;5;66;03m# train_sources += ['pubmed-query', 'raw-jsonl']\u001b[39;00m\n\u001b[32m---> \u001b[39m\u001b[32m19\u001b[39m dataset = \u001b[43mpaths_to_dataset\u001b[49m\u001b[43m(\u001b[49m\u001b[43m[\u001b[49m\u001b[43mpubmed\u001b[49m\u001b[43m,\u001b[49m\u001b[43m \u001b[49m\u001b[43mTAR\u001b[49m\u001b[43m,\u001b[49m\u001b[43m \u001b[49m\u001b[43msysrev\u001b[49m\u001b[43m]\u001b[49m\u001b[43m,\u001b[49m\n\u001b[32m     20\u001b[39m \u001b[43m                           \u001b[49m\u001b[43mtest_only_sources\u001b[49m\u001b[43m=\u001b[49m\u001b[43m[\u001b[49m\u001b[33;43m'\u001b[39;49m\u001b[33;43mTAR\u001b[39;49m\u001b[33;43m'\u001b[39;49m\u001b[43m,\u001b[49m\u001b[43m \u001b[49m\u001b[33;43m'\u001b[39;49m\u001b[33;43msysrev\u001b[39;49m\u001b[33;43m'\u001b[39;49m\u001b[43m]\u001b[49m\u001b[43m,\u001b[49m\n\u001b[32m     21\u001b[39m \u001b[43m                           \u001b[49m\u001b[43mtrain_sources\u001b[49m\u001b[43m=\u001b[49m\u001b[43mtrain_sources\u001b[49m\u001b[43m)\u001b[49m\n\u001b[32m     23\u001b[39m \u001b[38;5;28mprint\u001b[39m(dataset)\n\u001b[32m     24\u001b[39m weights = np.array(dataset[\u001b[33m\"\u001b[39m\u001b[33mtrain\u001b[39m\u001b[33m\"\u001b[39m][qual_key])**power\n",
      "\u001b[36mFile \u001b[39m\u001b[32mc:\\Users\\Simon\\Documents\\Ordner\\Uni\\Master\\25-Sommer\\Research Project\\project-doehl-boolean-clip\\my_processing.py:24\u001b[39m, in \u001b[36mpaths_to_dataset\u001b[39m\u001b[34m(paths, split_perc, test_only_sources, train_sources, train_batch, eval_batch)\u001b[39m\n\u001b[32m     22\u001b[39m \u001b[38;5;28;01mfor\u001b[39;00m path \u001b[38;5;129;01min\u001b[39;00m paths:\n\u001b[32m     23\u001b[39m     \u001b[38;5;28mprint\u001b[39m(path)\n\u001b[32m---> \u001b[39m\u001b[32m24\u001b[39m     df = \u001b[43mpd\u001b[49m\u001b[43m.\u001b[49m\u001b[43mread_json\u001b[49m\u001b[43m(\u001b[49m\u001b[43mpath\u001b[49m\u001b[43m,\u001b[49m\u001b[43m \u001b[49m\u001b[43mlines\u001b[49m\u001b[43m=\u001b[49m\u001b[38;5;28;43;01mTrue\u001b[39;49;00m\u001b[43m)\u001b[49m\n\u001b[32m     25\u001b[39m     \u001b[38;5;28;01mfor\u001b[39;00m source, data \u001b[38;5;129;01min\u001b[39;00m df.groupby(\u001b[33m\"\u001b[39m\u001b[33msource\u001b[39m\u001b[33m\"\u001b[39m):\n\u001b[32m     26\u001b[39m         \u001b[38;5;28;01mif\u001b[39;00m source \u001b[38;5;129;01mnot\u001b[39;00m \u001b[38;5;129;01min\u001b[39;00m test_only_sources:\n",
      "\u001b[36mFile \u001b[39m\u001b[32mc:\\Users\\Simon\\miniconda3\\envs\\RP\\Lib\\site-packages\\pandas\\io\\json\\_json.py:815\u001b[39m, in \u001b[36mread_json\u001b[39m\u001b[34m(path_or_buf, orient, typ, dtype, convert_axes, convert_dates, keep_default_dates, precise_float, date_unit, encoding, encoding_errors, lines, chunksize, compression, nrows, storage_options, dtype_backend, engine)\u001b[39m\n\u001b[32m    813\u001b[39m     \u001b[38;5;28;01mreturn\u001b[39;00m json_reader\n\u001b[32m    814\u001b[39m \u001b[38;5;28;01melse\u001b[39;00m:\n\u001b[32m--> \u001b[39m\u001b[32m815\u001b[39m     \u001b[38;5;28;01mreturn\u001b[39;00m \u001b[43mjson_reader\u001b[49m\u001b[43m.\u001b[49m\u001b[43mread\u001b[49m\u001b[43m(\u001b[49m\u001b[43m)\u001b[49m\n",
      "\u001b[36mFile \u001b[39m\u001b[32mc:\\Users\\Simon\\miniconda3\\envs\\RP\\Lib\\site-packages\\pandas\\io\\json\\_json.py:1023\u001b[39m, in \u001b[36mJsonReader.read\u001b[39m\u001b[34m(self)\u001b[39m\n\u001b[32m   1021\u001b[39m         data = ensure_str(\u001b[38;5;28mself\u001b[39m.data)\n\u001b[32m   1022\u001b[39m         data_lines = data.split(\u001b[33m\"\u001b[39m\u001b[38;5;130;01m\\n\u001b[39;00m\u001b[33m\"\u001b[39m)\n\u001b[32m-> \u001b[39m\u001b[32m1023\u001b[39m         obj = \u001b[38;5;28;43mself\u001b[39;49m\u001b[43m.\u001b[49m\u001b[43m_get_object_parser\u001b[49m\u001b[43m(\u001b[49m\u001b[38;5;28;43mself\u001b[39;49m\u001b[43m.\u001b[49m\u001b[43m_combine_lines\u001b[49m\u001b[43m(\u001b[49m\u001b[43mdata_lines\u001b[49m\u001b[43m)\u001b[49m\u001b[43m)\u001b[49m\n\u001b[32m   1024\u001b[39m \u001b[38;5;28;01melse\u001b[39;00m:\n\u001b[32m   1025\u001b[39m     obj = \u001b[38;5;28mself\u001b[39m._get_object_parser(\u001b[38;5;28mself\u001b[39m.data)\n",
      "\u001b[36mFile \u001b[39m\u001b[32mc:\\Users\\Simon\\miniconda3\\envs\\RP\\Lib\\site-packages\\pandas\\io\\json\\_json.py:1051\u001b[39m, in \u001b[36mJsonReader._get_object_parser\u001b[39m\u001b[34m(self, json)\u001b[39m\n\u001b[32m   1049\u001b[39m obj = \u001b[38;5;28;01mNone\u001b[39;00m\n\u001b[32m   1050\u001b[39m \u001b[38;5;28;01mif\u001b[39;00m typ == \u001b[33m\"\u001b[39m\u001b[33mframe\u001b[39m\u001b[33m\"\u001b[39m:\n\u001b[32m-> \u001b[39m\u001b[32m1051\u001b[39m     obj = \u001b[43mFrameParser\u001b[49m\u001b[43m(\u001b[49m\u001b[43mjson\u001b[49m\u001b[43m,\u001b[49m\u001b[43m \u001b[49m\u001b[43m*\u001b[49m\u001b[43m*\u001b[49m\u001b[43mkwargs\u001b[49m\u001b[43m)\u001b[49m\u001b[43m.\u001b[49m\u001b[43mparse\u001b[49m\u001b[43m(\u001b[49m\u001b[43m)\u001b[49m\n\u001b[32m   1053\u001b[39m \u001b[38;5;28;01mif\u001b[39;00m typ == \u001b[33m\"\u001b[39m\u001b[33mseries\u001b[39m\u001b[33m\"\u001b[39m \u001b[38;5;129;01mor\u001b[39;00m obj \u001b[38;5;129;01mis\u001b[39;00m \u001b[38;5;28;01mNone\u001b[39;00m:\n\u001b[32m   1054\u001b[39m     \u001b[38;5;28;01mif\u001b[39;00m \u001b[38;5;129;01mnot\u001b[39;00m \u001b[38;5;28misinstance\u001b[39m(dtype, \u001b[38;5;28mbool\u001b[39m):\n",
      "\u001b[36mFile \u001b[39m\u001b[32mc:\\Users\\Simon\\miniconda3\\envs\\RP\\Lib\\site-packages\\pandas\\io\\json\\_json.py:1187\u001b[39m, in \u001b[36mParser.parse\u001b[39m\u001b[34m(self)\u001b[39m\n\u001b[32m   1185\u001b[39m \u001b[38;5;129m@final\u001b[39m\n\u001b[32m   1186\u001b[39m \u001b[38;5;28;01mdef\u001b[39;00m\u001b[38;5;250m \u001b[39m\u001b[34mparse\u001b[39m(\u001b[38;5;28mself\u001b[39m):\n\u001b[32m-> \u001b[39m\u001b[32m1187\u001b[39m     \u001b[38;5;28;43mself\u001b[39;49m\u001b[43m.\u001b[49m\u001b[43m_parse\u001b[49m\u001b[43m(\u001b[49m\u001b[43m)\u001b[49m\n\u001b[32m   1189\u001b[39m     \u001b[38;5;28;01mif\u001b[39;00m \u001b[38;5;28mself\u001b[39m.obj \u001b[38;5;129;01mis\u001b[39;00m \u001b[38;5;28;01mNone\u001b[39;00m:\n\u001b[32m   1190\u001b[39m         \u001b[38;5;28;01mreturn\u001b[39;00m \u001b[38;5;28;01mNone\u001b[39;00m\n",
      "\u001b[36mFile \u001b[39m\u001b[32mc:\\Users\\Simon\\miniconda3\\envs\\RP\\Lib\\site-packages\\pandas\\io\\json\\_json.py:1403\u001b[39m, in \u001b[36mFrameParser._parse\u001b[39m\u001b[34m(self)\u001b[39m\n\u001b[32m   1399\u001b[39m orient = \u001b[38;5;28mself\u001b[39m.orient\n\u001b[32m   1401\u001b[39m \u001b[38;5;28;01mif\u001b[39;00m orient == \u001b[33m\"\u001b[39m\u001b[33mcolumns\u001b[39m\u001b[33m\"\u001b[39m:\n\u001b[32m   1402\u001b[39m     \u001b[38;5;28mself\u001b[39m.obj = DataFrame(\n\u001b[32m-> \u001b[39m\u001b[32m1403\u001b[39m         \u001b[43mujson_loads\u001b[49m\u001b[43m(\u001b[49m\u001b[43mjson\u001b[49m\u001b[43m,\u001b[49m\u001b[43m \u001b[49m\u001b[43mprecise_float\u001b[49m\u001b[43m=\u001b[49m\u001b[38;5;28;43mself\u001b[39;49m\u001b[43m.\u001b[49m\u001b[43mprecise_float\u001b[49m\u001b[43m)\u001b[49m, dtype=\u001b[38;5;28;01mNone\u001b[39;00m\n\u001b[32m   1404\u001b[39m     )\n\u001b[32m   1405\u001b[39m \u001b[38;5;28;01melif\u001b[39;00m orient == \u001b[33m\"\u001b[39m\u001b[33msplit\u001b[39m\u001b[33m\"\u001b[39m:\n\u001b[32m   1406\u001b[39m     decoded = {\n\u001b[32m   1407\u001b[39m         \u001b[38;5;28mstr\u001b[39m(k): v\n\u001b[32m   1408\u001b[39m         \u001b[38;5;28;01mfor\u001b[39;00m k, v \u001b[38;5;129;01min\u001b[39;00m ujson_loads(json, precise_float=\u001b[38;5;28mself\u001b[39m.precise_float).items()\n\u001b[32m   1409\u001b[39m     }\n",
      "\u001b[31mValueError\u001b[39m: Expected object or value"
     ]
    }
   ],
   "source": [
    "batch_size = 2\n",
    "# epochs = 5 * batch_size\n",
    "epochs = 10\n",
    "lr = 1e-7\n",
    "eval_batch = 30\n",
    "power = 1\n",
    "\n",
    "bool_key = \"bool_query\"\n",
    "nl_key = \"nl_query\"\n",
    "qual_key = \"quality\"\n",
    "\n",
    "data_path = \"training\"\n",
    "path = \"data/{}.jsonl\"\n",
    "pubmed = path.format(data_path)\n",
    "TAR = path.format(\"TAR_data\")\n",
    "sysrev = path.format(\"sysrev_conv\")\n",
    "train_sources = ['pubmed-searchrefiner']\n",
    "# train_sources += ['pubmed-query', 'raw-jsonl']\n",
    "dataset = paths_to_dataset([pubmed, TAR, sysrev],\n",
    "                           test_only_sources=['TAR', 'sysrev'],\n",
    "                           train_sources=train_sources)\n",
    "\n",
    "print(dataset)\n",
    "weights = np.array(dataset[\"train\"][qual_key])**power\n",
    "lr_n = \"\" if lr == 1e-7 else f\"lr{lr:.0E}_\"\n",
    "b_n = \"\" if batch_size == 2 else f\"b{batch_size}_\"\n",
    "pow_n = \"\" if power == 1 else f\"^{power}\"\n",
    "data_n = '_'.join(k[:10] for k in np.unique(dataset['train']['source']))\n",
    "\n",
    "model_name = model.model_name.split(\"/\")[-1]\n",
    "model_path = f\"{loss}/{model_name}/{b_n + lr_n}({data_n}){pow_n}\"\n",
    "print(model_path)"
   ]
  },
  {
   "cell_type": "code",
   "execution_count": null,
   "id": "95cf2cb3",
   "metadata": {},
   "outputs": [],
   "source": [
    "import os\n",
    "import re\n",
    "from transformers import Trainer, TrainingArguments\n",
    "from transformers.utils.notebook import NotebookProgressCallback\n",
    "from custom_trainer import NotebookProgressCallbackNoTable, WandbCallbackAveraged\n",
    "from evaluation import compute_metrics\n",
    "from torch.utils.data import WeightedRandomSampler\n",
    "\n",
    "sampler = WeightedRandomSampler(weights, num_samples=len(weights), replacement=True)\n",
    "\n",
    "class WeightedTrainer(Trainer):\n",
    "    def get_train_dataloader(self):\n",
    "        return torch.utils.data.DataLoader(\n",
    "            self.train_dataset,\n",
    "            batch_size=self.args.train_batch_size,\n",
    "            sampler=sampler,\n",
    "            collate_fn=self.data_collator,\n",
    "        )\n",
    "\n",
    "os.environ[\"WANDB_PROJECT\"] = \"Boolean-Ranking\"\n",
    "os.environ[\"WANDB_LOG_MODEL\"] = \"false\"\n",
    "\n",
    "# epochs = 10\n",
    "training_args = TrainingArguments(\n",
    "    output_dir=\"models/\" + model_path,\n",
    "    per_device_train_batch_size=batch_size,\n",
    "    num_train_epochs=epochs,\n",
    "    learning_rate=lr,\n",
    "    save_steps=1000,\n",
    "    save_total_limit=1,\n",
    "    remove_unused_columns=False,\n",
    "    bf16=True,\n",
    "    optim=\"adamw_bnb_8bit\",\n",
    "    logging_steps=100,\n",
    "    eval_steps=200,\n",
    "    eval_strategy=\"steps\",\n",
    "    eval_on_start=True,\n",
    "    per_device_eval_batch_size=eval_batch,\n",
    "    run_name=model_path,\n",
    "    # max_steps=1000,\n",
    ")\n",
    "\n",
    "def collate_fn(batch):\n",
    "    return {\n",
    "        \"in_bool\": [ex[bool_key] for ex in batch],\n",
    "        # \"in_text\": [re.sub(\"\\[.*?\\]\", \"\", ex[nl_key]) for ex in batch],\n",
    "        \"in_text\": [ex[nl_key] for ex in batch],\n",
    "    }\n",
    "\n",
    "# trainer = Trainer(\n",
    "trainer = WeightedTrainer(\n",
    "    model,\n",
    "    training_args,\n",
    "    train_dataset=dataset[\"train\"],\n",
    "    eval_dataset=dataset[\"test\"],\n",
    "    data_collator=collate_fn,\n",
    "    compute_metrics=compute_metrics\n",
    ")\n",
    "\n",
    "trainer.remove_callback(NotebookProgressCallback)\n",
    "trainer.add_callback(NotebookProgressCallbackNoTable)\n",
    "trainer.add_callback(WandbCallbackAveraged)\n",
    "\n",
    "trainer.evaluate(dataset[\"test\"][\"TAR\"])\n",
    "# trainer.train()\n",
    "# try: trainer.train(resume_from_checkpoint=True)\n",
    "# except: trainer.train(resume_from_checkpoint=False)"
   ]
  },
  {
   "cell_type": "code",
   "execution_count": 2,
   "id": "e6513b84",
   "metadata": {},
   "outputs": [
    {
     "ename": "NameError",
     "evalue": "name 'dataset' is not defined",
     "output_type": "error",
     "traceback": [
      "\u001b[31m---------------------------------------------------------------------------\u001b[39m",
      "\u001b[31mNameError\u001b[39m                                 Traceback (most recent call last)",
      "\u001b[36mCell\u001b[39m\u001b[36m \u001b[39m\u001b[32mIn[2]\u001b[39m\u001b[32m, line 1\u001b[39m\n\u001b[32m----> \u001b[39m\u001b[32m1\u001b[39m tar = \u001b[43mdataset\u001b[49m[\u001b[33m\"\u001b[39m\u001b[33mtest\u001b[39m\u001b[33m\"\u001b[39m][\u001b[33m\"\u001b[39m\u001b[33mTAR\u001b[39m\u001b[33m\"\u001b[39m]\n\u001b[32m      2\u001b[39m model(tar[bool_key], tar[nl_key], \u001b[38;5;28;01mFalse\u001b[39;00m)\n",
      "\u001b[31mNameError\u001b[39m: name 'dataset' is not defined"
     ]
    }
   ],
   "source": [
    "tar = dataset[\"test\"][\"TAR\"]\n",
    "model(tar[bool_key], tar[nl_key], False)"
   ]
  },
  {
   "cell_type": "code",
   "execution_count": null,
   "id": "abd28197",
   "metadata": {},
   "outputs": [],
   "source": [
    "from pathlib import Path\n",
    "from evaluation import evaluate_on_generated\n",
    "\n",
    "DIR = Path(\"data\") / \"combined_outputs\"\n",
    "evaluate_on_generated(DIR, model)"
   ]
  },
  {
   "cell_type": "code",
   "execution_count": null,
   "id": "fca3d390",
   "metadata": {},
   "outputs": [],
   "source": [
    "model.load(r\"models\\clip\\biobert-v1.1\\b16_lr1E-05_(pubmed-que_pubmed-sea_raw-jsonl)^4\\checkpoint-14110\\model.safetensors\")\n",
    "evaluate_on_generated(DIR, model)"
   ]
  },
  {
   "cell_type": "code",
   "execution_count": null,
   "id": "cc20fc5c",
   "metadata": {},
   "outputs": [],
   "source": [
    "from evaluation import evaluate\n",
    "# paths = [r\"models/siglip2/old/b2-bf-8b/e4\", r\"models/siglip2/old/b3-bf-8b\"]\n",
    "paths = [None]\n",
    "amt = eval_batch\n",
    "format = \"pdf\"\n",
    "for path in paths:\n",
    "    if path is not None:\n",
    "        model.load(path + \"/model.safetensors\")\n",
    "        print(path)\n",
    "    else: path = model_path\n",
    "\n",
    "    for key, data in dataset[\"test\"].items():\n",
    "        res = evaluate(model, data[bool_key][:amt], data[nl_key][:amt], plot=True, title=key)\n",
    "        res[\"plot\"].savefig(f\"models/{path}/test_stats.{format}\", format=format)"
   ]
  }
 ],
 "metadata": {
  "kernelspec": {
   "display_name": "RP",
   "language": "python",
   "name": "python3"
  },
  "language_info": {
   "codemirror_mode": {
    "name": "ipython",
    "version": 3
   },
   "file_extension": ".py",
   "mimetype": "text/x-python",
   "name": "python",
   "nbconvert_exporter": "python",
   "pygments_lexer": "ipython3",
   "version": "3.11.11"
  }
 },
 "nbformat": 4,
 "nbformat_minor": 5
}
