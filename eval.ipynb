{
 "cells": [
  {
   "cell_type": "code",
   "execution_count": 1,
   "id": "7a8f8419",
   "metadata": {},
   "outputs": [],
   "source": [
    "%load_ext autoreload\n",
    "%autoreload 2\n",
    "\n",
    "from utils.boolrank import DualEncoderModel\n",
    "from utils.evaluation import evaluate_on_generated\n",
    "\n",
    "model_name = 'BAAI/bge-small-en-v1.5'\n",
    "# model_name = 'BAAI/llm-embedder'\n",
    "# model_name = 'dmis-lab/biobert-v1.1'\n",
    "model = DualEncoderModel(model_name)\n",
    "model_name = model.model_name.split(\"/\")[-1]\n",
    "_ = model.eval()"
   ]
  },
  {
   "cell_type": "code",
   "execution_count": 2,
   "id": "74c4610e",
   "metadata": {},
   "outputs": [
    {
     "name": "stderr",
     "output_type": "stream",
     "text": [
      "Finding similar: 100%|██████████| 2088/2088 [00:00<00:00, 3256.12it/s]\n",
      "Finding similar: 100%|██████████| 343/343 [00:00<00:00, 16532.17it/s]\n",
      "Finding similar: 100%|██████████| 79/79 [00:00<00:00, 39005.30it/s]\n",
      "Finding similar: 100%|██████████| 50/50 [00:00<00:00, 24748.08it/s]\n",
      "Finding similar: 100%|██████████| 40/40 [00:00<00:00, 26408.34it/s]\n",
      "Removing similar: 100%|██████████| 5/5 [00:04<00:00,  1.19it/s]\n"
     ]
    },
    {
     "data": {
      "text/plain": [
       "DatasetDict({\n",
       "    train: []\n",
       "    test: {'pubmed-query': Dataset({\n",
       "        features: ['nl_query', 'bool_query', 'source', 'quality', 'mission_hash', 'pmid', '__index_level_0__'],\n",
       "        num_rows: 2100\n",
       "    }), 'pubmed-searchrefiner': Dataset({\n",
       "        features: ['nl_query', 'bool_query', 'source', 'quality', 'mission_hash', 'pmid', '__index_level_0__'],\n",
       "        num_rows: 210\n",
       "    }), 'raw-jsonl': Dataset({\n",
       "        features: ['nl_query', 'bool_query', 'source', 'quality', 'mission_hash', 'pmid', '__index_level_0__'],\n",
       "        num_rows: 90\n",
       "    }), 'TAR': Dataset({\n",
       "        features: ['nl_query', 'bool_query', 'source', '__index_level_0__'],\n",
       "        num_rows: 60\n",
       "    }), 'sysrev': Dataset({\n",
       "        features: ['id', 'link_to_review', 'nl_query', 'search_name', 'Date_from', 'Date_to', 'bool_query', 'seed_studies', 'included_studies', 'edited_search', 'source', '__index_level_0__'],\n",
       "        num_rows: 60\n",
       "    })}\n",
       "})"
      ]
     },
     "execution_count": 2,
     "metadata": {},
     "output_type": "execute_result"
    }
   ],
   "source": [
    "from utils.data_processing import paths_to_dataset\n",
    "\n",
    "bool_key = \"bool_query\"\n",
    "nl_key = \"nl_query\"\n",
    "data_path = \"training\"\n",
    "path = \"data/{}.jsonl\"\n",
    "pubmed = path.format(data_path)\n",
    "TAR = path.format(\"TAR_data\")\n",
    "sysrev = path.format(\"sysrev_conv\")\n",
    "dataset = paths_to_dataset([pubmed, TAR, sysrev], test_only_sources=[\"TAR\", \"sysrev\"], test_only=True)\n",
    "# dataset = paths_to_dataset([TAR, sysrev], test_only_sources=[\"TAR\", \"sysrev\"], test_only=True)\n",
    "dataset"
   ]
  },
  {
   "cell_type": "code",
   "execution_count": null,
   "id": "4a3ee441",
   "metadata": {},
   "outputs": [],
   "source": [
    "from utils.evaluation import evaluate\n",
    "\n",
    "def generate_plots(format=\"pdf\"):\n",
    "    for key, data in dataset[\"test\"].items():\n",
    "        res = evaluate(model, data[bool_key], data[nl_key], plot=True, title=key)\n",
    "        res[\"plot1\"].savefig(f\"models/clip/{model_name}/{key}1.{format}\", format=format)\n",
    "        res[\"plot2\"].savefig(f\"models/clip/{model_name}/{key}2.{format}\", format=format)"
   ]
  },
  {
   "cell_type": "code",
   "execution_count": null,
   "id": "93e0b84c",
   "metadata": {},
   "outputs": [],
   "source": [
    "data = dataset[\"test\"][\"TAR\"]\n",
    "logits = evaluate(model, data[bool_key], data[nl_key])['logits']"
   ]
  },
  {
   "cell_type": "code",
   "execution_count": null,
   "id": "c8570332",
   "metadata": {},
   "outputs": [],
   "source": [
    "logs = model(data[bool_key][15], data[nl_key][:30])['logits']\n",
    "(-logs).argsort()"
   ]
  },
  {
   "cell_type": "code",
   "execution_count": null,
   "id": "88669ec6",
   "metadata": {},
   "outputs": [],
   "source": [
    "print(data[1])\n",
    "print((-logits[15]).argsort())\n",
    "ahead = [24, 20, 25, 22, 15]\n",
    "for d in ahead:\n",
    "    print(data[d])"
   ]
  },
  {
   "cell_type": "code",
   "execution_count": null,
   "id": "581239a0",
   "metadata": {},
   "outputs": [],
   "source": [
    "import matplotlib.pyplot as plt\n",
    "import pandas as pd\n",
    "\n",
    "# Input data (from your prints)\n",
    "\n",
    "# Ranking info\n",
    "ahead = [24, 20, 25, 22, 15]  # 15 should be correct but ranked too low\n",
    "\n",
    "cutoff = 100\n",
    "# Build dataframe\n",
    "rows = []\n",
    "for idx in ahead:\n",
    "    rows.append([data[idx][\"nl_query\"][:cutoff]])\n",
    "\n",
    "df = pd.DataFrame(rows, columns=[\"NL Query\"])\n",
    "\n",
    "# Plot as table\n",
    "fig, ax = plt.subplots(figsize=(10, 2))\n",
    "ax.axis(\"off\")\n",
    "\n",
    "table = ax.table(\n",
    "    cellText=df.values,\n",
    "    colLabels=df.columns,\n",
    "    cellLoc=\"left\",\n",
    "    loc='center',\n",
    "    colColours=[\"lightgrey\"]*3,\n",
    ")\n",
    "\n",
    "# Color rows by status\n",
    "for i in range(1, len(df) + 1):\n",
    "    if i == 5:\n",
    "        color = \"lightgreen\"\n",
    "    else:\n",
    "        color = \"lightcoral\"\n",
    "    table[(i, 0)].set_facecolor(color)\n",
    "\n",
    "# plt.tight_layout()\n",
    "plt.title('Bool Query: (' + data[15][\"bool_query\"][:cutoff] + '...)')\n",
    "plt.savefig(\"nl_bool_query_ranking.pdf\", format=\"pdf\")\n",
    "plt.show()\n"
   ]
  },
  {
   "cell_type": "code",
   "execution_count": null,
   "id": "ccab3747",
   "metadata": {},
   "outputs": [],
   "source": [
    "import matplotlib.pyplot as plt\n",
    "import pandas as pd\n",
    "\n",
    "cutoff = 100\n",
    "# Build dataframe\n",
    "rows = []\n",
    "for idx in [1]:\n",
    "    rows.append([data[idx][\"nl_query\"][:cutoff]])\n",
    "\n",
    "df = pd.DataFrame(rows, columns=[\"NL Query\"])\n",
    "\n",
    "# Plot as table\n",
    "fig, ax = plt.subplots(figsize=(10, 2))\n",
    "ax.axis(\"off\")\n",
    "\n",
    "table = ax.table(\n",
    "    cellText=df.values,\n",
    "    colLabels=df.columns,\n",
    "    cellLoc=\"left\",\n",
    "    loc='center',\n",
    "    colColours=[\"lightgrey\"]*3,\n",
    ")\n",
    "\n",
    "color = \"lightgreen\"\n",
    "table[(1, 0)].set_facecolor(color)\n",
    "\n",
    "# plt.tight_layout()\n",
    "plt.title('Bool Query: (' + data[1][\"bool_query\"][:cutoff] + '...)')\n",
    "plt.savefig(\"nl_bool_query_ranking2.pdf\", format=\"pdf\")\n",
    "plt.show()"
   ]
  },
  {
   "cell_type": "code",
   "execution_count": null,
   "id": "34a48141",
   "metadata": {},
   "outputs": [],
   "source": [
    "# path = r\"models\\clip\\biobert-v1.1\\b4_lr8E-06_(pubmed-que_pubmed-sea_raw-jsonl)^2no[]\\model.safetensors\"\n",
    "# model.load(path)\n",
    "# generate_plots()"
   ]
  },
  {
   "cell_type": "markdown",
   "id": "a8ca6b40",
   "metadata": {},
   "source": [
    "## Untrained"
   ]
  },
  {
   "cell_type": "code",
   "execution_count": 8,
   "id": "5933e029",
   "metadata": {},
   "outputs": [
    {
     "name": "stderr",
     "output_type": "stream",
     "text": [
      "Evaluating groups: 100%|██████████| 400/400 [00:11<00:00, 35.25it/s]\n"
     ]
    },
    {
     "data": {
      "application/vnd.microsoft.datawrangler.viewer.v0+json": {
       "columns": [
        {
         "name": "index",
         "rawType": "int64",
         "type": "integer"
        },
        {
         "name": "model",
         "rawType": "object",
         "type": "string"
        },
        {
         "name": "spearman",
         "rawType": "float64",
         "type": "float"
        },
        {
         "name": "pearson",
         "rawType": "float64",
         "type": "float"
        },
        {
         "name": "f3_variance",
         "rawType": "float64",
         "type": "float"
        },
        {
         "name": "best_rank",
         "rawType": "float64",
         "type": "float"
        }
       ],
       "ref": "93dfd84b-c24c-4e4f-b1ef-bb55c92da9d0",
       "rows": [
        [
         "0",
         "HuggingfaceH4",
         "-0.0874",
         "-0.1612",
         "0.0717",
         "0.3339"
        ],
        [
         "1",
         "gpt-3.5-turbo-0125",
         "-0.2233",
         "-0.259",
         "0.0553",
         "0.2303"
        ],
        [
         "2",
         "gpt-3.5-turbo-1106",
         "-0.1543",
         "-0.1999",
         "0.0566",
         "0.2415"
        ],
        [
         "3",
         "meta-llama",
         "-0.1815",
         "-0.1351",
         "0.0741",
         "0.3732"
        ],
        [
         "4",
         "open-mixtral-8x7b",
         "-0.2158",
         "-0.2844",
         "0.0765",
         "0.3241"
        ],
        [
         "5",
         "gpt-4o-mini",
         "-0.35",
         "-0.3831",
         "0.0678",
         "0.2152"
        ],
        [
         "6",
         "o1-2024-12-17",
         "0.0353",
         "0.1302",
         "0.0502",
         "0.4353"
        ],
        [
         "7",
         "mistralai",
         "-0.2102",
         "-0.219",
         "0.0754",
         "0.2301"
        ],
        [
         "8",
         "open-mistral-7b",
         "-0.245",
         "-0.2918",
         "0.0783",
         "0.2888"
        ],
        [
         "9",
         "gpt-4-1106-preview",
         "-0.4831",
         "-0.3754",
         "0.0296",
         "0.21"
        ],
        [
         "10",
         "Average",
         "-0.2115",
         "-0.2179",
         "0.0636",
         "0.2882"
        ]
       ],
       "shape": {
        "columns": 5,
        "rows": 11
       }
      },
      "text/html": [
       "<div>\n",
       "<style scoped>\n",
       "    .dataframe tbody tr th:only-of-type {\n",
       "        vertical-align: middle;\n",
       "    }\n",
       "\n",
       "    .dataframe tbody tr th {\n",
       "        vertical-align: top;\n",
       "    }\n",
       "\n",
       "    .dataframe thead th {\n",
       "        text-align: right;\n",
       "    }\n",
       "</style>\n",
       "<table border=\"1\" class=\"dataframe\">\n",
       "  <thead>\n",
       "    <tr style=\"text-align: right;\">\n",
       "      <th></th>\n",
       "      <th>model</th>\n",
       "      <th>spearman</th>\n",
       "      <th>pearson</th>\n",
       "      <th>f3_variance</th>\n",
       "      <th>best_rank</th>\n",
       "    </tr>\n",
       "  </thead>\n",
       "  <tbody>\n",
       "    <tr>\n",
       "      <th>0</th>\n",
       "      <td>HuggingfaceH4</td>\n",
       "      <td>-0.0874</td>\n",
       "      <td>-0.1612</td>\n",
       "      <td>0.0717</td>\n",
       "      <td>0.3339</td>\n",
       "    </tr>\n",
       "    <tr>\n",
       "      <th>1</th>\n",
       "      <td>gpt-3.5-turbo-0125</td>\n",
       "      <td>-0.2233</td>\n",
       "      <td>-0.2590</td>\n",
       "      <td>0.0553</td>\n",
       "      <td>0.2303</td>\n",
       "    </tr>\n",
       "    <tr>\n",
       "      <th>2</th>\n",
       "      <td>gpt-3.5-turbo-1106</td>\n",
       "      <td>-0.1543</td>\n",
       "      <td>-0.1999</td>\n",
       "      <td>0.0566</td>\n",
       "      <td>0.2415</td>\n",
       "    </tr>\n",
       "    <tr>\n",
       "      <th>3</th>\n",
       "      <td>meta-llama</td>\n",
       "      <td>-0.1815</td>\n",
       "      <td>-0.1351</td>\n",
       "      <td>0.0741</td>\n",
       "      <td>0.3732</td>\n",
       "    </tr>\n",
       "    <tr>\n",
       "      <th>4</th>\n",
       "      <td>open-mixtral-8x7b</td>\n",
       "      <td>-0.2158</td>\n",
       "      <td>-0.2844</td>\n",
       "      <td>0.0765</td>\n",
       "      <td>0.3241</td>\n",
       "    </tr>\n",
       "    <tr>\n",
       "      <th>5</th>\n",
       "      <td>gpt-4o-mini</td>\n",
       "      <td>-0.3500</td>\n",
       "      <td>-0.3831</td>\n",
       "      <td>0.0678</td>\n",
       "      <td>0.2152</td>\n",
       "    </tr>\n",
       "    <tr>\n",
       "      <th>6</th>\n",
       "      <td>o1-2024-12-17</td>\n",
       "      <td>0.0353</td>\n",
       "      <td>0.1302</td>\n",
       "      <td>0.0502</td>\n",
       "      <td>0.4353</td>\n",
       "    </tr>\n",
       "    <tr>\n",
       "      <th>7</th>\n",
       "      <td>mistralai</td>\n",
       "      <td>-0.2102</td>\n",
       "      <td>-0.2190</td>\n",
       "      <td>0.0754</td>\n",
       "      <td>0.2301</td>\n",
       "    </tr>\n",
       "    <tr>\n",
       "      <th>8</th>\n",
       "      <td>open-mistral-7b</td>\n",
       "      <td>-0.2450</td>\n",
       "      <td>-0.2918</td>\n",
       "      <td>0.0783</td>\n",
       "      <td>0.2888</td>\n",
       "    </tr>\n",
       "    <tr>\n",
       "      <th>9</th>\n",
       "      <td>gpt-4-1106-preview</td>\n",
       "      <td>-0.4831</td>\n",
       "      <td>-0.3754</td>\n",
       "      <td>0.0296</td>\n",
       "      <td>0.2100</td>\n",
       "    </tr>\n",
       "    <tr>\n",
       "      <th>10</th>\n",
       "      <td>Average</td>\n",
       "      <td>-0.2115</td>\n",
       "      <td>-0.2179</td>\n",
       "      <td>0.0636</td>\n",
       "      <td>0.2882</td>\n",
       "    </tr>\n",
       "  </tbody>\n",
       "</table>\n",
       "</div>"
      ],
      "text/plain": [
       "                 model  spearman  pearson  f3_variance  best_rank\n",
       "0        HuggingfaceH4   -0.0874  -0.1612       0.0717     0.3339\n",
       "1   gpt-3.5-turbo-0125   -0.2233  -0.2590       0.0553     0.2303\n",
       "2   gpt-3.5-turbo-1106   -0.1543  -0.1999       0.0566     0.2415\n",
       "3           meta-llama   -0.1815  -0.1351       0.0741     0.3732\n",
       "4    open-mixtral-8x7b   -0.2158  -0.2844       0.0765     0.3241\n",
       "5          gpt-4o-mini   -0.3500  -0.3831       0.0678     0.2152\n",
       "6        o1-2024-12-17    0.0353   0.1302       0.0502     0.4353\n",
       "7            mistralai   -0.2102  -0.2190       0.0754     0.2301\n",
       "8      open-mistral-7b   -0.2450  -0.2918       0.0783     0.2888\n",
       "9   gpt-4-1106-preview   -0.4831  -0.3754       0.0296     0.2100\n",
       "10             Average   -0.2115  -0.2179       0.0636     0.2882"
      ]
     },
     "metadata": {},
     "output_type": "display_data"
    },
    {
     "name": "stdout",
     "output_type": "stream",
     "text": [
      "\\begin{tabular}{lcccc}\n",
      "\\toprule\n",
      "model & spearman & pearson & f3_variance & best_rank \\\\\n",
      "\\midrule\n",
      "HuggingfaceH4 & -0.087400 & -0.161200 & 0.071700 & 0.333900 \\\\\n",
      "gpt-3.5-turbo-0125 & -0.223300 & -0.259000 & 0.055300 & 0.230300 \\\\\n",
      "gpt-3.5-turbo-1106 & -0.154300 & -0.199900 & 0.056600 & 0.241500 \\\\\n",
      "meta-llama & -0.181500 & -0.135100 & 0.074100 & 0.373200 \\\\\n",
      "open-mixtral-8x7b & -0.215800 & -0.284400 & 0.076500 & 0.324100 \\\\\n",
      "gpt-4o-mini & -0.350000 & -0.383100 & 0.067800 & 0.215200 \\\\\n",
      "o1-2024-12-17 & 0.035300 & 0.130200 & 0.050200 & 0.435300 \\\\\n",
      "mistralai & -0.210200 & -0.219000 & 0.075400 & 0.230100 \\\\\n",
      "open-mistral-7b & -0.245000 & -0.291800 & 0.078300 & 0.288800 \\\\\n",
      "gpt-4-1106-preview & -0.483100 & -0.375400 & 0.029600 & 0.210000 \\\\\n",
      "Average & -0.211500 & -0.217900 & 0.063600 & 0.288200 \\\\\n",
      "\\bottomrule\n",
      "\\end{tabular}\n",
      "\n"
     ]
    }
   ],
   "source": [
    "evaluate_on_generated(model)"
   ]
  },
  {
   "cell_type": "code",
   "execution_count": null,
   "id": "059c6af9",
   "metadata": {},
   "outputs": [],
   "source": [
    "evaluate_on_generated(model, [\"id\"])"
   ]
  },
  {
   "cell_type": "markdown",
   "id": "b6d1a427",
   "metadata": {},
   "source": [
    "## Model 1"
   ]
  },
  {
   "cell_type": "code",
   "execution_count": null,
   "id": "7ff4773e",
   "metadata": {},
   "outputs": [],
   "source": [
    "model.load(r\"models\\clip\\bge-small-en-v1.5\\b16_lr1E-05_(pubmed-que_pubmed-sea_raw-jsonl)^4\\checkpoint-11288\\model.safetensors\")\n",
    "# model.load(r\"models\\clip\\biobert-v1.1\\b16_lr1E-05_(pubmed-que_pubmed-sea_raw-jsonl)^4\\checkpoint-14110\\model.safetensors\")\n",
    "evaluate_on_generated(model)"
   ]
  },
  {
   "cell_type": "code",
   "execution_count": null,
   "id": "6de21db8",
   "metadata": {},
   "outputs": [],
   "source": [
    "evaluate_on_generated(model, [\"id\"])"
   ]
  },
  {
   "cell_type": "markdown",
   "id": "6980f973",
   "metadata": {},
   "source": [
    "## Model 2"
   ]
  },
  {
   "cell_type": "code",
   "execution_count": null,
   "id": "663e548a",
   "metadata": {},
   "outputs": [],
   "source": [
    "model.load(r\"models\\clip\\bge-small-en-v1.5\\b16_(pubmed-que_pubmed-sea_raw-jsonl)^4\\checkpoint-11288\\model.safetensors\")\n",
    "# evaluate_on_generated(model)"
   ]
  },
  {
   "cell_type": "code",
   "execution_count": null,
   "id": "2f4e1875",
   "metadata": {},
   "outputs": [],
   "source": [
    "evaluate_on_generated(model, [\"id\"])"
   ]
  }
 ],
 "metadata": {
  "kernelspec": {
   "display_name": "RP",
   "language": "python",
   "name": "python3"
  },
  "language_info": {
   "codemirror_mode": {
    "name": "ipython",
    "version": 3
   },
   "file_extension": ".py",
   "mimetype": "text/x-python",
   "name": "python",
   "nbconvert_exporter": "python",
   "pygments_lexer": "ipython3",
   "version": "3.11.11"
  }
 },
 "nbformat": 4,
 "nbformat_minor": 5
}
