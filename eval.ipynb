{
 "cells": [
  {
   "cell_type": "code",
   "execution_count": null,
   "id": "7a8f8419",
   "metadata": {},
   "outputs": [],
   "source": [
    "%load_ext autoreload\n",
    "%autoreload 2\n",
    "\n",
    "from utils.boolrank import DualEncoderModel\n",
    "from utils.evaluation import evaluate_on_generated\n",
    "\n",
    "model_name = 'BAAI/bge-small-en-v1.5'\n",
    "# model_name = 'BAAI/llm-embedder'\n",
    "# model_name = 'dmis-lab/biobert-v1.1'\n",
    "model = DualEncoderModel(model_name)\n",
    "model_name = model.model_name.split(\"/\")[-1]\n",
    "_ = model.eval()"
   ]
  },
  {
   "cell_type": "code",
   "execution_count": null,
   "id": "74c4610e",
   "metadata": {},
   "outputs": [],
   "source": [
    "from utils.data_processing import paths_to_dataset\n",
    "\n",
    "bool_key = \"bool_query\"\n",
    "nl_key = \"nl_query\"\n",
    "data_path = \"training\"\n",
    "path = \"query_data/{}.jsonl\"\n",
    "pubmed = path.format(data_path)\n",
    "TAR = path.format(\"TAR_data\")\n",
    "sysrev = path.format(\"sysrev_conv\")\n",
    "dataset = paths_to_dataset([pubmed, TAR, sysrev], test_only_sources=[\"TAR\", \"sysrev\"], test_only=True)\n",
    "# dataset = paths_to_dataset([TAR, sysrev], test_only_sources=[\"TAR\", \"sysrev\"], test_only=True)\n",
    "dataset"
   ]
  },
  {
   "cell_type": "code",
   "execution_count": null,
   "id": "4a3ee441",
   "metadata": {},
   "outputs": [],
   "source": [
    "from utils.evaluation import evaluate\n",
    "\n",
    "def generate_plots(format=\"pdf\"):\n",
    "    for key, data in dataset[\"test\"].items():\n",
    "        res = evaluate(model, data[bool_key], data[nl_key], plot=True, title=key)\n",
    "        res[\"plot1\"].savefig(f\"models/clip/{model_name}/{key}1.{format}\", format=format)\n",
    "        res[\"plot2\"].savefig(f\"models/clip/{model_name}/{key}2.{format}\", format=format)"
   ]
  },
  {
   "cell_type": "code",
   "execution_count": null,
   "id": "93e0b84c",
   "metadata": {},
   "outputs": [],
   "source": [
    "data = dataset[\"test\"][\"TAR\"]\n",
    "logits = evaluate(model, data[bool_key], data[nl_key])['logits']"
   ]
  },
  {
   "cell_type": "code",
   "execution_count": null,
   "id": "c8570332",
   "metadata": {},
   "outputs": [],
   "source": [
    "logs = model(data[bool_key][15], data[nl_key][:30])['logits']\n",
    "(-logs).argsort()"
   ]
  },
  {
   "cell_type": "code",
   "execution_count": null,
   "id": "88669ec6",
   "metadata": {},
   "outputs": [],
   "source": [
    "print(data[1])\n",
    "print((-logits[15]).argsort())\n",
    "ahead = [24, 20, 25, 22, 15]\n",
    "for d in ahead:\n",
    "    print(data[d])"
   ]
  },
  {
   "cell_type": "code",
   "execution_count": null,
   "id": "581239a0",
   "metadata": {},
   "outputs": [],
   "source": [
    "import matplotlib.pyplot as plt\n",
    "import pandas as pd\n",
    "\n",
    "# Input data (from your prints)\n",
    "\n",
    "# Ranking info\n",
    "ahead = [24, 20, 25, 22, 15]  # 15 should be correct but ranked too low\n",
    "\n",
    "cutoff = 100\n",
    "# Build dataframe\n",
    "rows = []\n",
    "for idx in ahead:\n",
    "    rows.append([data[idx][\"nl_query\"][:cutoff]])\n",
    "\n",
    "df = pd.DataFrame(rows, columns=[\"NL Query\"])\n",
    "\n",
    "# Plot as table\n",
    "fig, ax = plt.subplots(figsize=(10, 2))\n",
    "ax.axis(\"off\")\n",
    "\n",
    "table = ax.table(\n",
    "    cellText=df.values,\n",
    "    colLabels=df.columns,\n",
    "    cellLoc=\"left\",\n",
    "    loc='center',\n",
    "    colColours=[\"lightgrey\"]*3,\n",
    ")\n",
    "\n",
    "# Color rows by status\n",
    "for i in range(1, len(df) + 1):\n",
    "    if i == 5:\n",
    "        color = \"lightgreen\"\n",
    "    else:\n",
    "        color = \"lightcoral\"\n",
    "    table[(i, 0)].set_facecolor(color)\n",
    "\n",
    "# plt.tight_layout()\n",
    "plt.title('Bool Query: (' + data[15][\"bool_query\"][:cutoff] + '...)')\n",
    "plt.savefig(\"nl_bool_query_ranking.pdf\", format=\"pdf\")\n",
    "plt.show()\n"
   ]
  },
  {
   "cell_type": "code",
   "execution_count": null,
   "id": "ccab3747",
   "metadata": {},
   "outputs": [],
   "source": [
    "import matplotlib.pyplot as plt\n",
    "import pandas as pd\n",
    "\n",
    "cutoff = 100\n",
    "# Build dataframe\n",
    "rows = []\n",
    "for idx in [1]:\n",
    "    rows.append([data[idx][\"nl_query\"][:cutoff]])\n",
    "\n",
    "df = pd.DataFrame(rows, columns=[\"NL Query\"])\n",
    "\n",
    "# Plot as table\n",
    "fig, ax = plt.subplots(figsize=(10, 2))\n",
    "ax.axis(\"off\")\n",
    "\n",
    "table = ax.table(\n",
    "    cellText=df.values,\n",
    "    colLabels=df.columns,\n",
    "    cellLoc=\"left\",\n",
    "    loc='center',\n",
    "    colColours=[\"lightgrey\"]*3,\n",
    ")\n",
    "\n",
    "color = \"lightgreen\"\n",
    "table[(1, 0)].set_facecolor(color)\n",
    "\n",
    "# plt.tight_layout()\n",
    "plt.title('Bool Query: (' + data[1][\"bool_query\"][:cutoff] + '...)')\n",
    "plt.savefig(\"nl_bool_query_ranking2.pdf\", format=\"pdf\")\n",
    "plt.show()"
   ]
  },
  {
   "cell_type": "code",
   "execution_count": null,
   "id": "34a48141",
   "metadata": {},
   "outputs": [],
   "source": [
    "# path = r\"models\\clip\\biobert-v1.1\\b4_lr8E-06_(pubmed-que_pubmed-sea_raw-jsonl)^2no[]\\model.safetensors\"\n",
    "# model.load(path)\n",
    "# generate_plots()"
   ]
  },
  {
   "cell_type": "markdown",
   "id": "a8ca6b40",
   "metadata": {},
   "source": [
    "## Untrained"
   ]
  },
  {
   "cell_type": "code",
   "execution_count": null,
   "id": "5933e029",
   "metadata": {},
   "outputs": [],
   "source": [
    "evaluate_on_generated(model)"
   ]
  },
  {
   "cell_type": "code",
   "execution_count": null,
   "id": "059c6af9",
   "metadata": {},
   "outputs": [],
   "source": [
    "evaluate_on_generated(model, [\"id\"])"
   ]
  },
  {
   "cell_type": "markdown",
   "id": "b6d1a427",
   "metadata": {},
   "source": [
    "## Model 1"
   ]
  },
  {
   "cell_type": "code",
   "execution_count": null,
   "id": "7ff4773e",
   "metadata": {},
   "outputs": [],
   "source": [
    "model.load(r\"models\\clip\\bge-small-en-v1.5\\b16_lr1E-05_(pubmed-que_pubmed-sea_raw-jsonl)^4\\checkpoint-11288\\model.safetensors\")\n",
    "# model.load(r\"models\\clip\\biobert-v1.1\\b16_lr1E-05_(pubmed-que_pubmed-sea_raw-jsonl)^4\\checkpoint-14110\\model.safetensors\")\n",
    "evaluate_on_generated(model)"
   ]
  },
  {
   "cell_type": "code",
   "execution_count": null,
   "id": "6de21db8",
   "metadata": {},
   "outputs": [],
   "source": [
    "evaluate_on_generated(model, [\"id\"])"
   ]
  },
  {
   "cell_type": "markdown",
   "id": "6980f973",
   "metadata": {},
   "source": [
    "## Model 2"
   ]
  },
  {
   "cell_type": "code",
   "execution_count": null,
   "id": "663e548a",
   "metadata": {},
   "outputs": [],
   "source": [
    "model.load(r\"models\\clip\\bge-small-en-v1.5\\b16_(pubmed-que_pubmed-sea_raw-jsonl)^4\\checkpoint-11288\\model.safetensors\")\n",
    "# evaluate_on_generated(model)"
   ]
  },
  {
   "cell_type": "code",
   "execution_count": null,
   "id": "2f4e1875",
   "metadata": {},
   "outputs": [],
   "source": [
    "evaluate_on_generated(model, [\"id\"])"
   ]
  }
 ],
 "metadata": {
  "kernelspec": {
   "display_name": "RP",
   "language": "python",
   "name": "python3"
  },
  "language_info": {
   "codemirror_mode": {
    "name": "ipython",
    "version": 3
   },
   "file_extension": ".py",
   "mimetype": "text/x-python",
   "name": "python",
   "nbconvert_exporter": "python",
   "pygments_lexer": "ipython3",
   "version": "3.11.11"
  }
 },
 "nbformat": 4,
 "nbformat_minor": 5
}
