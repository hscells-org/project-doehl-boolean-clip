{
 "cells": [
  {
   "cell_type": "code",
   "execution_count": 1,
   "id": "3a2f4040",
   "metadata": {},
   "outputs": [
    {
     "name": "stdout",
     "output_type": "stream",
     "text": [
      "data/training.jsonl\n",
      "data/TAR_data.jsonl\n",
      "data/sysrev_conv.jsonl\n"
     ]
    },
    {
     "name": "stderr",
     "output_type": "stream",
     "text": [
      "Finding similar: 100%|██████████| 2088/2088 [00:00<00:00, 4015.38it/s]\n",
      "Finding similar: 100%|██████████| 343/343 [00:00<00:00, 15428.67it/s]\n",
      "Finding similar: 100%|██████████| 79/79 [00:00<00:00, 22560.77it/s]\n",
      "Finding similar: 100%|██████████| 50/50 [00:00<00:00, 49789.93it/s]\n",
      "Finding similar: 100%|██████████| 40/40 [00:00<00:00, 39822.49it/s]\n",
      "Finding similar: 100%|██████████| 3782/3782 [00:03<00:00, 1092.97it/s]\n"
     ]
    }
   ],
   "source": [
    "%load_ext autoreload\n",
    "%autoreload 2\n",
    "\n",
    "import pandas as pd\n",
    "from sklearn.manifold import TSNE\n",
    "import plotly.express as px\n",
    "from boolrank import DualSiglip2Model\n",
    "from my_processing import paths_to_dataset\n",
    "\n",
    "# Load data\n",
    "data_path = \"training\"\n",
    "paths = [\n",
    "    f\"data/{data_path}.jsonl\",\n",
    "    \"data/TAR_data.jsonl\",\n",
    "    \"data/sysrev_conv.jsonl\",\n",
    "]\n",
    "dataset = paths_to_dataset(\n",
    "    paths,\n",
    "    test_only_sources=['TAR', 'sysrev'],\n",
    "    # train_sources=['pubmed-searchrefiner','pubmed-query','raw-jsonl']\n",
    "    train_sources=['pubmed-searchrefiner','raw-jsonl']\n",
    ")"
   ]
  },
  {
   "cell_type": "code",
   "execution_count": 8,
   "id": "e7d83ca4",
   "metadata": {},
   "outputs": [
    {
     "data": {
      "application/vnd.microsoft.datawrangler.viewer.v0+json": {
       "columns": [
        {
         "name": "index",
         "rawType": "int64",
         "type": "integer"
        },
        {
         "name": "nl",
         "rawType": "object",
         "type": "string"
        },
        {
         "name": "bool",
         "rawType": "object",
         "type": "string"
        },
        {
         "name": "quality",
         "rawType": "float64",
         "type": "float"
        },
        {
         "name": "source",
         "rawType": "object",
         "type": "string"
        }
       ],
       "ref": "e3ea2d56-479e-47ba-92e5-f1ee3f2c1934",
       "rows": [
        [
         "0",
         "Clinical efficacy of home-use blue-light therapy for mild-to moderate acne.",
         "((\"Acne Vulgaris\"[Mesh] OR Acne[tiab] OR Blackheads[tiab] OR Whiteheads[tiab] OR Pimples[tiab] OR Vulgaris[tiab] OR Lesion[tiab]) AND (\"Phototherapy\"[Mesh] OR \"Blue light\"[tiab] OR Phototherapy[tiab] OR Phototherapies[tiab] OR \"Photoradiation therapy\"[tiab] OR \"Photoradiation Therapies\"[tiab] OR \"Light Therapy\"[tiab] OR \"Light Therapies\"[tiab] OR LED[tiab] OR Diode[tiab]))",
         "0.0036414256128304533",
         "pubmed-searchrefiner"
        ],
        [
         "1",
         "[A prospective, randomized, open and comparative study to evaluate the safety and efficacy of blue light treatment versus a topical benzoyl peroxide 5% formulation in patients with acne grade II and III].",
         "((\"Acne Vulgaris\"[Mesh] OR Acne[tiab] OR Blackheads[tiab] OR Whiteheads[tiab] OR Pimples[tiab] OR Vulgaris[tiab] OR Lesion[tiab]) AND (\"Phototherapy\"[Mesh] OR \"Blue light\"[tiab] OR Phototherapy[tiab] OR Phototherapies[tiab] OR \"Photoradiation therapy\"[tiab] OR \"Light Therapy\"[tiab] OR LED[tiab] OR Diode[tiab]))",
         "0.004231927063559716",
         "pubmed-searchrefiner"
        ],
        [
         "2",
         "Environmental Needs, Barriers, and Facilitators for Optimal Healing in the Postoperative Process: A Qualitative Study of Patients' Lived Experiences and Perceptions.",
         "1. (general surg* or colorectal surger* or cholecystectom* or colonoscop* or endoscoy* or skin excision or hernia repair or endocrine surg* or mastectomy or gastrointestinal surger* or debridement or colorectal resection*).ab,ti.  2. (patient* or user or consumer).ab,ti.  3. (experience* or perception* or perspective*).ab,ti.  4. 1 and 2 and 3",
         "0.417550136937892",
         "pubmed-searchrefiner"
        ],
        [
         "3",
         "A multicenter, randomized, split-face clinical trial evaluating the efficacy and safety of chromophore gel-assisted blue light phototherapy for the treatment of acne.",
         "((\"Acne Vulgaris\"[Mesh] OR Acne[tiab] OR Blackheads[tiab] OR Whiteheads[tiab] OR Vulgaris[tiab] OR Lesion[tiab]) AND (\"Phototherapy\"[Mesh] OR \"Blue light\"[tiab] OR Phototherapy[tiab] OR \"Light Therapy\"[tiab] OR LED[tiab] OR Diode[tiab]))",
         "0.014074723717007595",
         "pubmed-searchrefiner"
        ],
        [
         "4",
         "Differentiating psychogenic nonepileptic from epileptic seizures: A mixed-methods, content analysis study.",
         "(Conversion Disorder*[tw] OR Functional Neurological Disorder*[tw] OR Pseudoseizure*[tw] OR Pseudo seizure*[tw] OR Dissociative seizure*[tw] OR Nonepileptic seizure*[tw] OR Non epileptic attack disorder*[tw] OR Non epileptic seizure*[tw] OR Nonepileptic attack disorder*[tw] OR Functional neurological symptom disorder*[tw] OR \"Conversion Disorder\"[Mesh:NoExp]) AND ((Injur*[tw] OR trauma*[tw]))",
         "0.417550136937892",
         "pubmed-searchrefiner"
        ],
        [
         "5",
         "Media use and psychosocial adjustment in children and adolescents.",
         "multitasking/ OR multitask*.ti,ab,id. OR task analysis/ OR task analysis.ti,ab,id. OR task complexity/ OR task complexity.ti,ab,id.  AND   academic achievement/ OR academic achievement.ti,ab,id. OR academic assignment*.ti,ab,id. OR academic effects.ti,ab,id. OR academic performance.ti,ab,id. OR gradepoint.ti,ab,id. OR grade point average.ti,ab,id. OR GPA.ti,ab,id. OR homework/ OR homework*.ti,ab,id. OR learning strategies/ OR learning strategies.ti,ab,id. OR reading achievement/ OR reading achievement.ti,ab,id. OR reading assignments.ti,ab,id. OR reading comprehension/ OR reading comprehension.ti,ab,id. OR scholastic achievement.ti,ab,id. OR school achievement.ti,ab,id. OR school assignment*.ti,ab,id. OR school performance.ti,ab,id. OR writing assignment*.ti,ab,id.  OR  Cognition ",
         "0.13918337897929733",
         "pubmed-searchrefiner"
        ],
        [
         "6",
         "Interventions for preventing falls in people with multiple sclerosis",
         " (((\"falls\"[Title/Abstract]) OR \"recurrent falls\"[Title/Abstract]) OR \"reduced falls\"[Title/Abstract]) OR \"falls prevention\"[Title/Abstract]) AND (((\"Tertiary Prevention\"[Mesh]) OR \"intervention\"[Title/Abstract]) OR \"prevention\"[Title/Abstract])",
         "0.5494174665093033",
         "raw-jsonl"
        ],
        [
         "7",
         "[A prospective, randomized, open and comparative study to evaluate the safety and efficacy of blue light treatment versus a topical benzoyl peroxide 5% formulation in patients with acne grade II and III].",
         "(acne [tiab]or \"acne vulgaris\"[Mesh]) AND (\"phototherapy\"[Mesh])",
         "0.0626325205406838",
         "pubmed-searchrefiner"
        ],
        [
         "8",
         "Non-steroidal anti-inflammatory drugs for heavy bleeding or pain associated with intrauterine-device use",
         " ((intrauterine devices OR intrauterine system* OR IUD* OR IUC* OR IUS) AND (NSAID* OR anti inflammatory agents, nonsteroidal))",
         "0.5494174665093033",
         "raw-jsonl"
        ],
        [
         "9",
         "Surgical versus non-surgical interventions in people with adolescent idiopathic scoliosis",
         " (((((surg* or fus* or orthopedic* or instrument* or screw* or wire* or hook*[Title/Abstract])) OR (nonsurg* or non-surg or nonop* or non-op* or immobiliz* or immobilis* or exercise* or therap* or braces or bracing or taping or tape* or electrotherap* or rehab* or conserv*[Title/Abstract])) AND (adolescen* AND scoliosis[Title/Abstract])) AND (\"2013/07/05\"[Date - Publication] : \"3000\"[Date - Publication])) NOT MEDLINE[sb]",
         "0.5494174665093033",
         "raw-jsonl"
        ],
        [
         "10",
         "Enzyme replacement therapy for Anderson-Fabry disease",
         " (((Fabry Disease) OR (Disease, Fabry) OR (Angiokeratoma Corporis Diffusum) OR (Anderson-Fabry Disease) OR (Anderson Fabry Disease) OR (Disease, Anderson-Fabry) OR (Fabry's Disease) OR (Disease, Fabry's) OR (Fabrys Disease)) AND ((agalsidase beta) OR (Fabrazyme) OR (Genzyme brand of AGAL) OR (Agalsidase alfa) OR (Replagal) OR (Shire HGT brand of AGAL))) AND (randomized controlled trial [Publication Type] OR controlled clinical trial [Publication Type] OR randomized controlled trials [MeSH Terms] OR random allocation [MeSH Terms] OR double blind method [MeSH Terms] OR single blind method [MeSH Terms] OR clinical trial [Publication Type] OR clinical trials [MeSH Terms] OR (clinical* [Text Word] AND trial* [Text Word]) OR single* [Text Word] OR double* [Text Word] OR treble* [Text Word] OR triple* [Text Word] OR placebos [MeSH Terms] OR placebo* [Text Word] OR random* [Text Word] OR research design [MeSH Terms] OR comparative study [MeSH Terms] OR evaluation studies [MeSH Terms] OR follow-up studies [MeSH Terms] OR prospective studies [MeSH Terms] OR control* [Text Word] OR prospectiv* [Text Word] OR volunteer* [Text Word])",
         "0.5494174665093033",
         "raw-jsonl"
        ],
        [
         "11",
         "An Observational, Prospective Cohort Pilot Study to Compare the Use of Subepidermal Moisture Measurements Versus Ultrasound and Visual Skin Assessments for Early Detection of Pressure Injury.",
         "(\"Pressure Ulcer\"[Mesh] OR \"Pressure ulcer\"[tiab] OR \"Pressure ulcers\"[tiab] OR Bedsore[tiab] OR Bedsores[tiab] OR \"Pressure Sore\"[tiab] OR \"Pressure Sores\"[tiab] OR \"Pressure injuries\"[tiab] OR \"Pressure injury\"[tiab] OR \"Pressure injuries\"[tiab] OR \"Decubitus Ulcer\"[tiab] OR \"Decubitus Ulcers\"[tiab]) AND (Subepidermal[tiab] OR Sub-epidermal[tiab] OR \"Sub epidermal\"[tiab] OR SEM[tiab] OR Moisture[tiab] OR Fluid[tiab] OR Fluids[tiab]) ",
         "0.0626325205406838",
         "pubmed-searchrefiner"
        ],
        [
         "12",
         "The impact of skin-sparing mastectomy with immediate reconstruction in patients with Stage III breast cancer treated with neoadjuvant chemotherapy and postmastectomy radiation.",
         "(\"Breast Neoplasms\"[Mesh] OR (breast[tiab] AND cancer*[tiab]) OR (breast[tiab] AND neoplasm*[tiab]) OR (breast[tiab] AND carcinoma*[tiab]) OR (breast[tiab] AND tumo?r*[tiab]) OR Mastectomy[Mesh] OR mastectom*[tiab] OR Mammaplasty[Mesh] OR mamm?plast*[tiab] OR (prophylactic*[tiab] AND (surger*[tiab] OR resect*[tiab] OR mastectom*[tiab] OR mamm?plast*[tiab])) OR (prevent*[tiab] AND (surger*[tiab] OR resect*[tiab] OR mastectom*[tiab] OR mamm?plast*[tiab])) OR (risk-reducing[tiab] AND (surger*[tiab] OR resect*[tiab] OR mastectom*[tiab] OR mamm?plast*[tiab])) OR \"prophylactic mastectomy\"[Mesh]) AND (\"breast reconstruct*\"[tiab] OR (breast[tiab] AND implant[tiab] AND reconstruct*[tiab]) OR ((one-stage[tiab] OR \"one stage\"[tiab] OR \"single stage\"[tiab]) AND breast[tiab] AND implant[tiab] AND reconstruct*[tiab]) OR ((direct-to-implant[tiab] OR \"direct to implant\"[tiab]) AND reconstruct*[tiab]) OR ((two-stage[tiab] OR \"two stage\"[tiab]) AND breast[tiab] AND implant[tiab] AND reconstruct*[tiab]) OR \"Acellular Dermis\"[Mesh] OR (\"acellular dermal matri*\"[tiab] AND breast[tiab]) OR ((mesh-assisted[tiab] OR \"mesh assisted\"[tiab]) AND breast[tiab] AND implant[tiab] AND reconstruct*[tiab]) OR \"Surgical Mesh\"[Mesh] ",
         "0.313162602703419",
         "pubmed-searchrefiner"
        ],
        [
         "13",
         "The relationship between nurses assessment of early pressure ulcer damage and sub epidermal moisture measurement: A prospective explorative study.",
         "(\"Pressure Ulcer\"[MeSH Major Topic] OR (\"pressure ulcer*\"[Text Word] OR \"pressure injur*\"[Text Word] OR \"PU\"[All Fields] OR \"patient intell\"[Journal] OR \"pi\"[All Fields]) OR \"bed sore*\"[Text Word] OR \"bedsore*\"[All Fields] OR \"decubitus ulcer*\"[Text Word] OR \"decubitus sore*\"[Text Word])) AND (\"struct equ modeling\"[Journal] OR \"scan electron microsc\"[Journal] OR \"sem\"[All Fields] OR \"subepidermal moisture\"[All Fields] OR \"sub-epidermal moisture\"[All Fields] OR \"sub-epidermal moisture\"[All Fields]) AND (\"Prognosis\"[MeSH Major Topic] OR (\"progno*\"[All Fields]  OR \"screen*\"[All Fields] OR \"risk assessment*\"[Text Word] OR \"assessment*\"[All Fields]))",
         "0.11387731007397055",
         "pubmed-searchrefiner"
        ],
        [
         "14",
         "Phototherapy with blue (415 nm) and red (660 nm) light in the treatment of acne vulgaris.",
         "((\"Acne Vulgaris\"[Mesh]) AND (\"Phototherapy\"[Mesh] OR \"Blue light\"[tiab] OR Phototherapy[tiab]))",
         "0.014912504890639",
         "pubmed-searchrefiner"
        ],
        [
         "15",
         "Clinical efficacy of home-use blue-light therapy for mild-to moderate acne.",
         "((\"Acne Vulgaris\"[Mesh] OR Acne[tiab]  OR OR Vulgaris[tiab] OR Lesion[tiab]) AND (\"Phototherapy\"[Mesh] OR \"Blue light\"[tiab] OR Phototherapy[tiab] OR OR \"Light Therapy\"[tiab] OR \"Light Therapies\"[tiab] OR LED[tiab] OR Diode[tiab]))",
         "0.009710468300881209",
         "pubmed-searchrefiner"
        ],
        [
         "16",
         "Treatment including anthracyclines versus treatment not including anthracyclines for childhood cancer",
         " ((anthracyclines OR anthracycline antibiotics OR doxorubicin OR adriamycin OR epirubicin OR idarubicin OR daunorubicin OR rubidomycin OR daunoxome OR myocet OR caelyx OR doxil) AND (infant OR infan* OR newborn OR newborn* OR new-born* OR baby OR baby* OR babies OR neonat* OR child OR child* OR schoolchild* OR schoolchild OR school child OR school child* OR kid OR kids OR toddler* OR adolescent OR adoles* OR teen* OR boy* OR girl* OR minors OR minors* OR underag* OR under ag* OR juvenil* OR youth* OR kindergar* OR puberty OR puber* OR pubescen* OR prepubescen* OR prepuberty* OR pediatrics OR pediatric* OR paediatric* OR peadiatric* OR schools OR nursery school* OR preschool* OR pre school* OR primary school* OR secondary school* OR elementary school* OR high school* OR highschool* OR school age OR schoolage OR school age* OR schoolage* OR infancy) AND (survival OR survival rate OR survival rates OR cumulative survival rate OR cumulative survival rates OR survivorship OR mean survival time OR mean survival times OR survival time OR surviv* OR median survival time OR median survival times OR overall survival OR survival analysis OR survival analyses OR disease-free survival OR disease free survival OR event-free survival OR event-free survivals OR event free survival OR progression-free survival OR progression free survival OR progression-free survivals OR event-free OR event free OR progression free OR progression-free OR time to progression OR treatment outcome OR treatment effectiveness OR treatment efficacy OR neoplasm recurrence OR neoplasm recurrences OR disease-free survivals OR disease free survivals OR event free survivals OR progression free survivals OR treatment failure))",
         "0.5494174665093033",
         "raw-jsonl"
        ],
        [
         "17",
         "Open access to journal articles in dentistry: Prevalence and citation impact.",
         "open access OA",
         "0.626325205406838",
         "pubmed-searchrefiner"
        ],
        [
         "18",
         "Regional cerebral blood flow and neuron-specific enolase in cerebrospinal fluid in children with acute lymphoblastic leukemia during induction treatment.",
         "\"Vasospasm, Intracranial\"[Mesh] OR \"Intracranial Vasospasm*\"[tiab] OR \"Intracranial Vascular Spasm*\"[tiab] OR \"Cerebral Vasospasm*\"[tiab] OR \"Cerebrovascular Spasm*\"[tiab] OR \"Cerebral Angiospasm*\"[tiab] OR \"Cerebral Artery Spasm*\"[tiab]",
         "0.2505300821627352",
         "pubmed-searchrefiner"
        ],
        [
         "19",
         "The relationship between nurses assessment of early pressure ulcer damage and sub epidermal moisture measurement: A prospective explorative study.",
         "((\"pressure ulcer\"[Majr] OR \"pressure injur*\"[tiab] OR PU[tiab] OR PI[tiab] OR 'bed sore\"[tiab] OR \"decubitus ulcer*\"[tiab]OR \"decubitus sore*\"[tiab]) AND (SEM[Majr] OR \"subepidermal moisture\"[tiab] OR \"sub-epidermal moisture\"[tiab] OR \"sub epidermal moisture\"[tiab]) AND (\"prognosis\"[Majr] OR \"progno* value [tiab] OR progno*[tiab] OR predict*[tiab] OR screen*[tiab] OR \"risk* assessment*\"[tiab] OR assessment*[tiab]))  ",
         "0.208775068468946",
         "pubmed-searchrefiner"
        ],
        [
         "20",
         "The effect of mobile applications for improving adherence in cardiac rehabilitation: a systematic review and meta-analysis.",
         "(((Cardiac Rehabilitation[MeSH Terms] OR Exercise Therapy[MeSH Terms] OR Rehabilitation[MeSH Terms] OR CR[Title/Abstract] OR \"cardiac rehabilitation\"[Title/Abstract] OR (exercise*[Title/Abstract] AND intervent*[Title/Abstract]) OR (program*[Title/Abstract] AND rehabilitat*[Title/Abstract])) AND (\"Patient Acceptance of Health Care\"[Mesh Terms] OR Patient Compliance[Mesh Terms] OR Patient Participation[MeSH Terms] OR \"Referral and Consultation\"[MeSH Terms] OR adher*[Title/Abstract] OR attend*[Title/Abstract] OR participat*[All Fields] OR utili*[Title/Abstract] OR refer*[Title/Abstract] OR enrol*[Title/Abstract])) AND (Coronary Artery Disease[MeSH Terms] OR Myocardial Revascularization[MeSH Terms] OR Myocardial Infarction[MeSH Terms] OR Angina Pectoris[MeSH Terms] OR Percutaneous Coronary Intervention[MeSH Terms] OR Heart Diseases[MeSH Terms] OR \"cardiac rehabilitation\"[All Fields] OR (coronary[Title/Abstract] AND disease[Title/Abstract])))",
         "0.07829065067585475",
         "pubmed-searchrefiner"
        ],
        [
         "21",
         "Comorbidity in Multiple Sclerosis.",
         "(\"Acid Uric\"[tiab] OR \"Uric Acid\"[tiab] OR Trihydroxypurine[tiab] OR trioxypurine[tiab] OR Trioxopurine[tiab] OR \"Potassium Urate\"[tiab] OR Urate[tiab] OR \"1 methyl\"[tiab] OR Hyperuricemia[tiab] OR SUA[tiab])  AND  (\"Chronic Renal\"[tiab] OR \"Chronic Kidney\"[tiab] OR CKD[tiab] OR \"End-Stage Kidney\"[tiab] OR \"End Stage Kidney\"[tiab] OR \"End-Stage Renal\"[tiab] OR \"End Stage Renal\"[tiab] OR ESRD[tiab] OR \"chronic nephropathy\"[tiab])  AND  (Adolescents OR Adolescence OR Teens OR Teen* OR Teenagers OR Teenager OR Youth* OR Youths OR young* OR Children OR Child* OR Preschool* OR school* OR Infants OR Infant* OR infancy OR infancies OR Newborn OR new-born OR \"new born\" OR Neonate OR Neonates OR pediatric OR pediatrics OR paediatric OR toddler OR \"Age under\" OR Age-under OR under-age OR \"under age\" OR underage OR under-aged OR \"under aged\" OR underaged OR boy OR boyhood OR girl* OR baby OR juvenile OR junior OR immatur* OR pubescence OR puberty)",
         "0.208775068468946",
         "pubmed-searchrefiner"
        ],
        [
         "22",
         "The clinical usefulness of 18F-fluorodeoxyglucose positron emission tomography-computed tomography (PET-CT) in follow-up of curatively resected pancreatic cancer patients.",
         "((curative[Title/Abstract] OR visible[Title/Abstract] OR nineteen[Title/Abstract] OR ten[Title/Abstract] OR resection[Title/Abstract] OR covered[Title/Abstract] OR necessarily[Title/Abstract] OR reliably[Title/Abstract] OR prognostic[Title/Abstract] OR invisible[Title/Abstract] OR pancreas[Title/Abstract] OR benign[Title/Abstract] OR locoregional[Title/Abstract] OR pathologic[Title/Abstract] OR suspicion[Title/Abstract] OR distant[Title/Abstract] OR maximal[Title/Abstract] OR hundred[Title/Abstract] OR eleven[Title/Abstract] OR sudden[Title/Abstract] OR improves[Title/Abstract] OR conjunction[Title/Abstract] OR inclusion[Title/Abstract] OR plus[Title/Abstract] OR advantageous[Title/Abstract] OR recurrent[Title/Abstract] OR pet[Title/Abstract] OR suspected[Title/Abstract]) AND (multidetector[Title/Abstract] OR ranged[Title/Abstract] OR proven[Title/Abstract] OR retrospectively[Title/Abstract] OR placing[Title/Abstract] OR evaluating[Title/Abstract] OR resected[Title/Abstract] OR modality[Title/Abstract] OR blinded[Title/Abstract] OR cect[Title/Abstract] OR proved[Title/Abstract] OR observers[Title/Abstract] OR mr[Title/Abstract] OR usefulness[Title/Abstract] OR consensus[Title/Abstract] OR detecting[Title/Abstract] OR fdg[Title/Abstract] OR utility[Title/Abstract] OR fluorodeoxyglucose[Title/Abstract] OR emission[Title/Abstract] OR positron[Title/Abstract]))",
         "1.252650410813676",
         "pubmed-searchrefiner"
        ],
        [
         "23",
         "Acute bacterial pneumonia is associated with the occurrence of acute coronary syndromes.",
         "(pneumonia[Title] AND (sequelae[All Fields] OR complication[All Fields] OR \"disease exacerbation\"[All Fields] OR \"associated disease\"[All Fields] OR \"long-term outcomes\"[All Fields] OR \"hospital readmission\"[All Fields] OR \"long-term morbidity\"[All Fields] OR \"long-term complication\"[All Fields] OR \"health-related quality of life\"[All Fields]) AND (adults[Title] OR \"older adults\"[All Fields] OR \"older patients\"[All Fields]))    ",
         "0.208775068468946",
         "pubmed-searchrefiner"
        ],
        [
         "24",
         "Randomized trial of three phototherapy methods for the treatment of acne vulgaris in Chinese patients.",
         "((\"Acne Vulgaris\"[Mesh] OR Acne[tiab] OR Vulgaris[tiab] OR Lesion[tiab]) AND (\"Phototherapy\"[Mesh] OR \"Blue light\"[tiab] OR Phototherapy[tiab] OR \"Photoradiation therapy\"[tiab] OR LED[tiab] OR Diode[tiab]))",
         "0.010352482733997323",
         "pubmed-searchrefiner"
        ],
        [
         "25",
         "Phototherapy in the treatment of acne vulgaris.",
         "((\"Acne Vulgaris\"[Mesh] OR Acne[tiab] OR Vulgaris[tiab]) AND (\"Phototherapy\"[Mesh] OR \"Blue light\"[tiab] OR Phototherapy[tiab] OR LED[tiab] OR Diode[tiab]))",
         "0.011387731007397053",
         "pubmed-searchrefiner"
        ],
        [
         "26",
         "Media Multitasking Is Associated With Higher Body Mass Index in Pre-adolescent Children.",
         "multitasking/ OR multitask*.ti,ab,id. OR task analysis/ OR task analysis.ti,ab,id. OR task complexity/ OR task complexity.ti,ab,id.  AND   academic achievement/ OR academic achievement.ti,ab,id. OR academic assignment*.ti,ab,id. OR academic effects.ti,ab,id. OR academic performance.ti,ab,id. OR gradepoint.ti,ab,id. OR grade point average.ti,ab,id. OR GPA.ti,ab,id. OR homework/ OR homework*.ti,ab,id. OR learning strategies/ OR learning strategies.ti,ab,id. OR reading achievement/ OR reading achievement.ti,ab,id. OR reading assignments.ti,ab,id. OR reading comprehension/ OR reading comprehension.ti,ab,id. OR scholastic achievement.ti,ab,id. OR school achievement.ti,ab,id. OR school assignment*.ti,ab,id. OR school performance.ti,ab,id. OR writing assignment*.ti,ab,id.  OR  Cognit*.ti,ab,id. OR executive function.ti,ab,id. OR working memory.ti,ab,id. OR attention.ti,ab,id.   OR  Sleep.ti,ab,id.   AND   Child* ti,ab,id. ",
         "0.11387731007397055",
         "pubmed-searchrefiner"
        ],
        [
         "27",
         "Job-related burnout among juvenile probation officers: Implications for mental health stigma and competency.",
         "Prisons/ OR Prisoners/ OR exp Correctional Facilities/ OR Criminals/ OR (Prison* or offender* or inmate* or probation*).mp OR Incarceration.mp OR (justice adj (worker* or officer* or staff*)).mp OR (correction* adj (officer* or staff*)).mp OR (Correctional adj institution*).mp OR (justice adj facilit*).mp OR probation*.mp OR parole*.mp",
         "0.1565813013517095",
         "pubmed-searchrefiner"
        ],
        [
         "28",
         "SARS-CoV-2 Transmission from Presymptomatic Meeting Attendee, Germany.",
         "(((COVID-19) OR (SARS-CoV-2)) AND (transmission)) AND (((work*place*)) OR (school*))",
         "0.626325205406838",
         "pubmed-searchrefiner"
        ],
        [
         "29",
         "Impact of low health literacy on patients' health outcomes: a multicenter cohort study.",
         "(\"quasi-experimental\"[All Fields] OR counterfactual[All Fields] OR causal*[All Fields] OR confounder*[All Fields] OR endogeneity[All Fields] OR \"regression discontinuity\"[All Fields] OR \"instrumental variable*\"[All Fields] OR \"difference-in-difference*\"[All Fields] OR \"event study\"[All Fields] OR \"difference in difference*\"[All Fields] OR \"interrupted time series\"[All Fields] OR \"random effects\"[All Fields] OR \"fixed effects\"[All Fields] OR \"mundlak\"[All Fields] OR \"matching\"[All Fields] OR \"propensity score*\"[All Fields] OR \"bayesian network\"[All Fields] OR \"structural equation*\"[All Fields] OR \"synthetic control\"[All Fields] OR \"targeted maximum likelihood\"[All Fields] OR \"G-formula\"[All Fields] OR \"G-estimation\"[All Fields] OR \"G-methods\"[All Fields] OR \"negative control\"[All Fields] OR \"directed acyclic graph\"[All Fields] OR \"sufficient component cause\"[All Fields] OR Randomized Controlled Trial [Publication Type] OR \"potential outcome*\"[All Fields]) AND (health literacy[All Fields] OR \"health literate\"[All Fields] OR health numeracy[All Fields] OR health outcome*[All Fields] OR health behavior*[All Fields]) AND (patient outcome*[All Fields] OR medication adherence[All Fields] OR prevent*[All Fields] OR hospital*[All Fields] OR low value care[All Fields] OR chronic disease*[All Fields] OR mortality[All Fields] OR morbidity[All Fields] OR disease management[All Fields] OR health status[All Fields] OR health-related quality of life[All Fields])",
         "0.05446306133972504",
         "pubmed-searchrefiner"
        ],
        [
         "30",
         "Fitness and mobility training in patients with Intensive Care Unit-acquired muscle weakness (FITonICU): study protocol for a randomised controlled trial.",
         "Occupational  therap*   critical ICU intensive",
         "0.417550136937892",
         "pubmed-searchrefiner"
        ],
        [
         "31",
         "Adenoidectomy for otitis media in children",
         " ((adenoidectom* or adenotonsillectom* or adenotonsilectom* or \"adeno tonsillectomy*\" or \"adeno tonsilectom*\").tw. OR (adenoid* or adenotonsil*).ti. AND (surg* or operat* or excis* or extract* or remov* or dissect* or ablat* or coblat* or laser*).ti.)",
         "0.5494174665093033",
         "raw-jsonl"
        ],
        [
         "32",
         "The clinical and histological effect of home-use, combination blue-red LED phototherapy for mild-to-moderate acne vulgaris in Korean patients: a double-blind, randomized controlled trial.",
         "((\"Acne Vulgaris\"[Mesh] OR Acne[tiab] OR Vulgaris[tiab]) AND  (\"Blue light\"[tiab] OR Phototherapy[tiab] OR Phototherapies[tiab] OR \"Photoradiation therapy\"[tiab] OR \"Photoradiation Therapies\"[tiab] OR \"Light Therapy\"[tiab] OR \"Light Therapies\"[tiab]))",
         "0.012044715488593039",
         "pubmed-searchrefiner"
        ],
        [
         "33",
         "Prophylactic or very early initiation of continuous positive airway pressure (CPAP) for preterm infants",
         " (continuous positive airway pressure[MeSH] OR continuous positive pressure OR continuous positive airway pressure OR CPAP OR continuous distending airway pressure OR continuous positive transpulmonary pressure OR continuous transpulmonary pressure OR continuous inflating pressure OR continuous negative distending pressure OR continuous negative pressure OR continuous airway pressure) AND ((infant, newborn[MeSH] OR infan* OR newborn OR neonat* OR premature OR low birth weight OR VLBW OR LBW) AND (randomised controlled trial [pt] OR controlled clinical trial [pt] OR randomised [tiab] OR placebo [tiab] OR drug therapy [sh] OR randomly [tiab] OR trial [tiab] OR groups [tiab]) NOT (animals [mh] NOT humans [mh]))",
         "0.27470873325465167",
         "raw-jsonl"
        ],
        [
         "34",
         "A comparative study on the clinical and polysomnographic pattern of obstructive sleep apnea among obese and non-obese subjects.",
         " (clinical[tiab] OR research[tiab] OR medical[tiab] OR \"study\"[tiab]) AND (polysomnography[tiab] OR polysomnographic[tiab] OR polysomnography[Mesh]) AND (data[tiab] AND analysis[tiab] OR 'data analysis[Mesh])",
         "0.11387731007397055",
         "pubmed-searchrefiner"
        ],
        [
         "35",
         "Poisoning and self-harm.",
         "(\"drug overdose\"[Mesh] OR > Poisoning[Mesh] OR \"substance-related disorders\"[Mesh] OR >  \"Sodium Oxybate\"[Mesh] OR > Overdose[tiab] OR   > OR Toxicology[tiab] OR Sedation[tiab] OR Poisoning[tiab] OR GHB[tiab] > OR gamma-hydroxybutyrate[tiab] OR gamma-butyrolactone[tiab]) AND > (\"Emergency Service, Hospital\"[Mesh] OR \"Emergency Medicine\"[Mesh] OR > \"Poison Control Centers\"[Mesh] OR \"Triage\"[Mesh]  > OR \"Emergency medicine\"[tiab] OR \"tertiary-care hospitals\"[tiab] OR > \"University hospital\"[tiab] OR ((emergency[tiab]) AND > (department*[tiab] OR room*[tiab] OR ward*[tiab] OR service*[tiab] OR > accident[tiab] OR ED[tiab])) OR ) AND  (\"Airway Management\"[Mesh] OR Capnography[Mesh] OR \"airway management\"[tiab] OR > \"rapid sequence induction\"[tiab] OR Intubation[tiab] OR Intubate[tiab] > OR intubated[tiab] OR \"observation unit\"[tiab])",
         "0.016702005477515682",
         "pubmed-searchrefiner"
        ],
        [
         "36",
         "The lived experience of the early postoperative period after colorectal cancer surgery.",
         "1. (general or colorectal or cholecystectom* or colonoscop* or endoscoy* or skin excision or hernia repair or endocrine or mastectomy or gastrointestinal or debridement or colorectal resection*).ab,ti. 2. (surgery or surgeries).ab,ti. 3. (patient* or user or consumer).ab,ti. 4. (experience* or perception* or perspective*).ab,ti. 5. 1 and 2 and 3 and 4",
         "0.313162602703419",
         "pubmed-searchrefiner"
        ],
        [
         "37",
         "The Impact of COVID-19 on Healthcare Worker Wellness: A Scoping Review.",
         "\"healthcare workers\" OR \"healthcare worker\" OR \"healthcare professionals\" OR \"healthcare professional\" OR nurse* OR doctor* OR \"general practitioner\" Or \"general practitioners\" OR practitioner* OR \"nursing staff\" OR \"medical staff\" OR \"nursing workforce\" OR \"nursing personnele\" OR \"medical workforce\" OR \"medical personnele\" OR physician OR physicians OR \"healthcare aide\" OR \"care aide\" AND scale OR scales OR instrument OR instruments OR questionnaire OR questionnaires OR tool OR tools OR \"health care surveys\" OR \"healthcare surveys\" OR survey OR surveys AND ",
         "1.252650410813676",
         "pubmed-searchrefiner"
        ],
        [
         "38",
         "Media use, face-to-face communication, media multitasking, and social well-being among 8- to 12-year-old girls.",
         "(media multitask*)or MMT and child* ",
         "0.208775068468946",
         "pubmed-searchrefiner"
        ],
        [
         "39",
         "An extension of a multicenter, randomized, split-face clinical trial evaluating the efficacy and safety of chromophore gel-assisted blue light phototherapy for the treatment of acne.",
         "((Acne[tiab]) AND (\"Blue light\"[tiab] OR Phototherapy[tiab]))",
         "0.417550136937892",
         "pubmed-searchrefiner"
        ],
        [
         "40",
         "An Observational, Prospective Cohort Pilot Study to Compare the Use of Subepidermal Moisture Measurements Versus Ultrasound and Visual Skin Assessments for Early Detection of Pressure Injury.",
         "(\"Pressure Ulcer\"[Majr] OR \"pressure ulcer*\"[Text Word] OR PU OR PI) AND (SEM OR \"subepidermal moisture\" OR \"sub-epidermal moisture\" OR \"sub epidermal moisture\") AND (Prognosis [Majr] OR \"Natural history\" [tiab] OR \"Natural course\" [tiab] OR \"Clinical course\" [tiab] OR survival [tiab] OR \"Watchful waiting\" [tiab] OR (Wait n3 see) [tiab] OR \"Active monitoring\" [tiab] OR Prognosis [tiab] OR Progress [tiab] OR Progressing [tiab] OR Progression [tiab] OR recurrence [tiab] OR ((Symptom or Symptoms) N3 (resolve or resolution or Duration or Length or Relapse or Remit or Worsen or Improve or Improves or Improving or stabilize or prevent)) [tiab])",
         "0.06592896899019347",
         "pubmed-searchrefiner"
        ],
        [
         "41",
         "Clinical practice guidelines for the perioperative nutrition, metabolic, and nonsurgical support of patients undergoing bariatric procedures - 2019 update: cosponsored by American Association of Clinical Endocrinologists/American College of Endocrinology, The Obesity Society, American Society for Metabolic & Bariatric Surgery, Obesity Medicine Association, and American Society of Anesthesiologists.",
         "((bariatric surgery[Title/Abstract]) OR (\"bariatric surgery\"[MeSH Terms])) AND (diet OR nutrition)",
         "0.313162602703419",
         "pubmed-searchrefiner"
        ],
        [
         "42",
         "Decreased Glasgow Coma Scale score does not mandate endotracheal intubation in the emergency department.",
         "> (\"drug overdose\"[Mesh] OR \"substance abuse, intravenous\"[Mesh] OR > \"substance abuse, oral\"[Mesh] OR Poisoning[Mesh] OR \"substance-related > disorders\"[Mesh] OR \"amphetamine-related disorders\"[Mesh] OR > \"cocaine-related disorders\"[Mesh] OR \"Sodium Oxybate\"[Mesh] OR > Overdose[tiab] OR \"Substance abuse\"[tiab] OR \"Toxic ingestion\"[tiab] > OR Toxicology[tiab] OR Sedation[tiab] OR Poisoning[tiab] OR GHB[tiab] > OR gamma-hydroxybutyrate[tiab] OR gamma-butyrolactone[tiab]) AND > (\"Emergency Service, Hospital\"[Mesh] OR \"Emergency Medicine\"[Mesh] OR > \"Poison Control Centers\"[Mesh] OR \"Triage\"[Mesh] OR Clinicians[tiab] > OR \"Emergency medicine\"[tiab] OR \"tertiary-care hospitals\"[tiab] OR > \"University hospital\"[tiab] OR ((emergency[tiab]) AND > (department*[tiab] OR room*[tiab] OR ward*[tiab] OR service*[tiab] OR > accident[tiab] OR ED[tiab])) OR \"A & E\"[tiab]) AND (\"Airway > Management\"[Mesh] OR Capnography[Mesh] OR \"airway management\"[tiab] OR > \"rapid sequence induction\"[tiab] OR Intubation[tiab] OR Intubate[tiab] > intubated[tiab] OR \"observation unit\"[tiab])",
         "0.059650019562556",
         "pubmed-searchrefiner"
        ],
        [
         "43",
         "Predictors of the need for rapid sequence intubation in the poisoned patient with reduced Glasgow coma score.",
         "(\"drug overdose\"[Mesh] OR Poisoning[Mesh] OR \"substance-related disorders\"[Mesh] OR \"Sodium Oxybate\"[Mesh] OR Overdose[tiab] OR Toxicology[tiab] OR Sedation[tiab] OR Poisoning[tiab] OR GHB[tiab] OR gamma-hydroxybutyrate[tiab] OR gamma-butyrolactone[tiab]) AND > (\"Emergency Service, Hospital\"[Mesh] OR \"Emergency Medicine\"[Mesh] OR \"Poison Control Centers\"[Mesh] OR Triage[Mesh] OR \"Emergency medicine\"[tiab] OR \"tertiary-care hospitals\"[tiab] OR \"University hospital\"[tiab] OR ((emergency[tiab]) AND (department*[tiab] OR ED[tiab]))) AND (\"Airway Management\"[Mesh] OR Capnography[Mesh] OR \"airway management\"[tiab] OR \"rapid sequence induction\"[tiab] OR Intubation[tiab] OR Intubate[tiab] OR intubated[tiab] OR \"observation unit\"[tiab]) AND (Intubation OR Overdose OR \"Organ dysfunction\"[tiab] OR \"Cardiovascular toxicity\"[tiab] OR \"Hemodynamic instability\"[tiab] OR \"Airway obstruction\"[tiab])",
         "0.014234663759246318",
         "pubmed-searchrefiner"
        ],
        [
         "44",
         "Crisis within a crisis, COVID-19 knowledge and awareness among the Syrian population: a cross-sectional study.",
         "(Coronaviridae[Mesh] ) OR (\"Coronavirus Infections\"[Mesh:NoExp]) OR (\"Hemorrhagic Fever, Ebola\"[Majr:NoExp]) OR (Tuberculosis[Majr:NoExp]) OR (\"Disease Outbreaks\"[Majr:NoExp]) OR (^epidemics[Mesh:NoExp] OR pandemics[Majr:NoExp]) OR (\"Influenza, Human\"[Majr:NoExp]) OR ((nCoV[tw] OR 2019-nCoV[tw] OR ((new[tw] OR novel[tw] OR wuhan[tw]) AND coronavirus[tw]) OR covid19[tw] OR covid-19[tw] OR SARS-CoV-2[tw] OR \"Severe Acute Respiratory Syndrome Coronavirus 2\"[tw]) ) OR ((coronavirus*[ti] OR coronovirus*[ti] OR coronoravirus*[ti] OR coronaravirus*[ti] OR corono-virus*[ti] OR corona-virus*[ti]) ) OR ((pneumonia[ti] OR respiratory-illness*[ti] OR respiratory-symptom*[ti] OR \"respiratory disease*\"[ti]) ) OR ((ebola[ti] OR tuberculosis[ti] OR pneumonia[ti] OR SARS[ti] OR MERS[ti]) ) ",
         "1.252650410813676",
         "pubmed-searchrefiner"
        ],
        [
         "45",
         "Phototherapy with blue (415 nm) and red (660 nm) light in the treatment of acne vulgaris.",
         "((\"Acne Vulgaris\"[Mesh] OR Acne[tiab]) AND (\"Phototherapy\"[Mesh] OR \"Blue light\"[tiab] OR Phototherapy[tiab] OR \"Light Therapy\"[tiab] ))",
         "0.018154353779908348",
         "pubmed-searchrefiner"
        ],
        [
         "46",
         "Paracetamol (acetaminophen) for prevention or treatment of pain in newborns",
         " ((infant, newborn[MeSH] OR newborn OR neonate OR neonatal OR premature OR low birth weight OR VLBW OR LBW or infan* or neonat*) AND (randomised controlled trial [pt] OR controlled clinical trial [pt] OR Clinical Trial[ptyp] OR randomised [tiab] OR placebo [tiab] OR clinical trials as topic [mesh: noexp] OR randomly [tiab] OR trial [ti]) NOT (animals [mh] NOT humans [mh]))",
         "0.013081368250221508",
         "raw-jsonl"
        ],
        [
         "47",
         "The clinical and histological effect of home-use, combination blue-red LED phototherapy for mild-to-moderate acne vulgaris in Korean patients: a double-blind, randomized controlled trial.",
         "((\"Acne Vulgaris\"[Mesh] OR Acne[tiab] OR Vulgaris[tiab]) AND (\"Phototherapy\"[Mesh] OR \"Blue light\"[tiab] OR Phototherapy[tiab] OR  \"Light Therapy\"[tiab] OR \"Light Therapies\"[tiab] OR LED[tiab] OR Diode[tiab])) ",
         "0.012161654473919184",
         "pubmed-searchrefiner"
        ],
        [
         "48",
         "Identifying SLAP lesions: a meta-analysis of clinical tests and exercise in clinical reasoning.",
         "(\"rotator cuff\"[MeSH Terms] OR \"shoulder impingement syndrome\"[MeSH Terms] OR ((\"bursitis\"[MeSH Terms] OR \"tendinopathy\"[MeSH Terms] OR \"joint diseases\"[MeSH Terms]) AND (\"shoulder\"[MeSH Terms] OR \"shoulder*\"[All Fields]) OR \"shoulder pain\"[MeSH Terms] OR \"shoulder\"[MeSH Terms] OR \"shoulder joint\"[MeSH Terms] OR \"acromioclavicular joint\"[MeSH Terms] OR \"scapula\"[Title/Abstract] OR \"subacromial\"[Title/Abstract]) AND (\"physical examination\"[Title/Abstract] OR \"physical examination\"[MeSH Terms] OR \"physical examinations\"[Title/Abstract] OR \"examination\"[Title/Abstract] OR \"assessment\"[Title/Abstract] OR \"evaluation\"[Title/Abstract] OR \"test\"[Title/Abstract] OR \"tests\"[Title/Abstract] OR \"clinical\"[Title/Abstract] OR \"diagnos*\"[Title/Abstract] OR \"accuracy\"[Title/Abstract] OR \"Sensitivity and Specificity\"[MeSH Terms] OR \"sensitivity\"[Title/Abstract] OR \"specificity\"[Title/Abstract] OR \"predictive value\"[Title/Abstract] OR \"likelihood ratio\"[Title/Abstract] OR \"true positive\"[Title/Abstract] OR \"true negative\"[Title/Abstract] OR \"false positive\"[Title/Abstract] OR \"false negative\"[Title/Abstract] OR \"diagnosis\"[MeSH Terms] OR \"physical examination\"[MeSH Terms] OR \"diagnostic techniques and procedures\"[MeSH Terms] OR \"diagnostic imaging\"[MeSH Terms] OR \"diagnosis\"[MeSH Subheading]) AND (\"systematic review\"[Title/Abstract] OR \"systematic reviews\"[Title/Abstract] OR \"systematic\"[Title/Abstract] OR \"meta analysis\"[Title/Abstract] OR \"meta analysis\"[Title/Abstract] OR \"metaanalysis\"[Title/Abstract] OR \"meta-analyses\"[Title/Abstract] OR \"meta-analyses\"[Title/Abstract] OR \"metaanalyses\"[Title/Abstract] OR \"meta-analytic\"[Title/Abstract] OR \"meta-analytic\"[Title/Abstract] OR \"pooled analysis\"[Title/Abstract] OR \"Meta-Analysis as Topic\"[MeSH Terms] OR \"meta analysis\"[Publication Type] OR \"overview\"[Title/Abstract])",
         "0.089475029343834",
         "pubmed-searchrefiner"
        ],
        [
         "49",
         "Bed-to-nurse ratios, provision of basic nursing care, and in-hospital and 30-day mortality among acute stroke patients admitted to an intensive care unit: cross-sectional analysis of survey and administrative data.",
         "(\"Intensive Care Units/organization and administration\"[Mesh] OR ((\"Intensive Care Units\"[Mesh] OR \"Critical Care\"[MeSH] OR intensive care*[tiab] OR ICU[tiab] OR ICUs[tiab]) AND (\"Medical Staff, Hospital/organization and administration\"[Mesh] OR \"Personnel Staffing and Scheduling\"[Mesh] OR \"Hospital Design and Construction\"[Mesh] OR personnel[tiab] OR staff*[tiab] OR intensivist*[tiab] OR infrastructure[tiab] OR supply[tiab] OR instrument*[tiab] OR organiz*[tiab] OR design[tiab]))) ",
         "0.417550136937892",
         "pubmed-searchrefiner"
        ]
       ],
       "shape": {
        "columns": 4,
        "rows": 3782
       }
      },
      "text/html": [
       "<div>\n",
       "<style scoped>\n",
       "    .dataframe tbody tr th:only-of-type {\n",
       "        vertical-align: middle;\n",
       "    }\n",
       "\n",
       "    .dataframe tbody tr th {\n",
       "        vertical-align: top;\n",
       "    }\n",
       "\n",
       "    .dataframe thead th {\n",
       "        text-align: right;\n",
       "    }\n",
       "</style>\n",
       "<table border=\"1\" class=\"dataframe\">\n",
       "  <thead>\n",
       "    <tr style=\"text-align: right;\">\n",
       "      <th></th>\n",
       "      <th>nl</th>\n",
       "      <th>bool</th>\n",
       "      <th>quality</th>\n",
       "      <th>source</th>\n",
       "    </tr>\n",
       "  </thead>\n",
       "  <tbody>\n",
       "    <tr>\n",
       "      <th>0</th>\n",
       "      <td>Clinical efficacy of home-use blue-light thera...</td>\n",
       "      <td>((\"Acne Vulgaris\"[Mesh] OR Acne[tiab] OR Black...</td>\n",
       "      <td>0.003641</td>\n",
       "      <td>pubmed-searchrefiner</td>\n",
       "    </tr>\n",
       "    <tr>\n",
       "      <th>1</th>\n",
       "      <td>[A prospective, randomized, open and comparati...</td>\n",
       "      <td>((\"Acne Vulgaris\"[Mesh] OR Acne[tiab] OR Black...</td>\n",
       "      <td>0.004232</td>\n",
       "      <td>pubmed-searchrefiner</td>\n",
       "    </tr>\n",
       "    <tr>\n",
       "      <th>2</th>\n",
       "      <td>Environmental Needs, Barriers, and Facilitator...</td>\n",
       "      <td>1. (general surg* or colorectal surger* or cho...</td>\n",
       "      <td>0.417550</td>\n",
       "      <td>pubmed-searchrefiner</td>\n",
       "    </tr>\n",
       "    <tr>\n",
       "      <th>3</th>\n",
       "      <td>A multicenter, randomized, split-face clinical...</td>\n",
       "      <td>((\"Acne Vulgaris\"[Mesh] OR Acne[tiab] OR Black...</td>\n",
       "      <td>0.014075</td>\n",
       "      <td>pubmed-searchrefiner</td>\n",
       "    </tr>\n",
       "    <tr>\n",
       "      <th>4</th>\n",
       "      <td>Differentiating psychogenic nonepileptic from ...</td>\n",
       "      <td>(Conversion Disorder*[tw] OR Functional Neurol...</td>\n",
       "      <td>0.417550</td>\n",
       "      <td>pubmed-searchrefiner</td>\n",
       "    </tr>\n",
       "    <tr>\n",
       "      <th>...</th>\n",
       "      <td>...</td>\n",
       "      <td>...</td>\n",
       "      <td>...</td>\n",
       "      <td>...</td>\n",
       "    </tr>\n",
       "    <tr>\n",
       "      <th>3777</th>\n",
       "      <td>Dopamine agonists for the treatment of cocaine...</td>\n",
       "      <td>((cocaine*[tiab]) AND (abuse*[tiab] OR addict...</td>\n",
       "      <td>0.549417</td>\n",
       "      <td>raw-jsonl</td>\n",
       "    </tr>\n",
       "    <tr>\n",
       "      <th>3778</th>\n",
       "      <td>Lifestyle advice to cancer survivors: a qualit...</td>\n",
       "      <td>perspectives OR views OR attitudes OR beliefs ...</td>\n",
       "      <td>0.125265</td>\n",
       "      <td>pubmed-searchrefiner</td>\n",
       "    </tr>\n",
       "    <tr>\n",
       "      <th>3779</th>\n",
       "      <td>Clonidine Increases the Likelihood That Abstin...</td>\n",
       "      <td>1. (opioid* or opiate* or analges* or pain kil...</td>\n",
       "      <td>0.156581</td>\n",
       "      <td>pubmed-searchrefiner</td>\n",
       "    </tr>\n",
       "    <tr>\n",
       "      <th>3780</th>\n",
       "      <td>Utility of (18) F-FDG PET/CT and CECT in conju...</td>\n",
       "      <td>((displaced[Title/Abstract] OR pancreas[Title/...</td>\n",
       "      <td>0.626325</td>\n",
       "      <td>pubmed-searchrefiner</td>\n",
       "    </tr>\n",
       "    <tr>\n",
       "      <th>3781</th>\n",
       "      <td>'Probably better than any medication we can gi...</td>\n",
       "      <td>view* OR attitude* OR perspective* OR opinion ...</td>\n",
       "      <td>0.048179</td>\n",
       "      <td>pubmed-searchrefiner</td>\n",
       "    </tr>\n",
       "  </tbody>\n",
       "</table>\n",
       "<p>3782 rows × 4 columns</p>\n",
       "</div>"
      ],
      "text/plain": [
       "                                                     nl  \\\n",
       "0     Clinical efficacy of home-use blue-light thera...   \n",
       "1     [A prospective, randomized, open and comparati...   \n",
       "2     Environmental Needs, Barriers, and Facilitator...   \n",
       "3     A multicenter, randomized, split-face clinical...   \n",
       "4     Differentiating psychogenic nonepileptic from ...   \n",
       "...                                                 ...   \n",
       "3777  Dopamine agonists for the treatment of cocaine...   \n",
       "3778  Lifestyle advice to cancer survivors: a qualit...   \n",
       "3779  Clonidine Increases the Likelihood That Abstin...   \n",
       "3780  Utility of (18) F-FDG PET/CT and CECT in conju...   \n",
       "3781  'Probably better than any medication we can gi...   \n",
       "\n",
       "                                                   bool   quality  \\\n",
       "0     ((\"Acne Vulgaris\"[Mesh] OR Acne[tiab] OR Black...  0.003641   \n",
       "1     ((\"Acne Vulgaris\"[Mesh] OR Acne[tiab] OR Black...  0.004232   \n",
       "2     1. (general surg* or colorectal surger* or cho...  0.417550   \n",
       "3     ((\"Acne Vulgaris\"[Mesh] OR Acne[tiab] OR Black...  0.014075   \n",
       "4     (Conversion Disorder*[tw] OR Functional Neurol...  0.417550   \n",
       "...                                                 ...       ...   \n",
       "3777   ((cocaine*[tiab]) AND (abuse*[tiab] OR addict...  0.549417   \n",
       "3778  perspectives OR views OR attitudes OR beliefs ...  0.125265   \n",
       "3779  1. (opioid* or opiate* or analges* or pain kil...  0.156581   \n",
       "3780  ((displaced[Title/Abstract] OR pancreas[Title/...  0.626325   \n",
       "3781  view* OR attitude* OR perspective* OR opinion ...  0.048179   \n",
       "\n",
       "                    source  \n",
       "0     pubmed-searchrefiner  \n",
       "1     pubmed-searchrefiner  \n",
       "2     pubmed-searchrefiner  \n",
       "3     pubmed-searchrefiner  \n",
       "4     pubmed-searchrefiner  \n",
       "...                    ...  \n",
       "3777             raw-jsonl  \n",
       "3778  pubmed-searchrefiner  \n",
       "3779  pubmed-searchrefiner  \n",
       "3780  pubmed-searchrefiner  \n",
       "3781  pubmed-searchrefiner  \n",
       "\n",
       "[3782 rows x 4 columns]"
      ]
     },
     "execution_count": 8,
     "metadata": {},
     "output_type": "execute_result"
    }
   ],
   "source": [
    "N = 10000\n",
    "df = pd.DataFrame({\n",
    "    \"nl\": dataset[\"train\"][\"nl_query\"],\n",
    "    \"bool\": dataset[\"train\"][\"bool_query\"],\n",
    "    \"quality\": dataset[\"train\"][\"quality\"],\n",
    "    \"source\": dataset[\"train\"][\"source\"]\n",
    "})\n",
    "df = df.sample(min(N, df.shape[0])).reset_index(drop=True)\n",
    "df"
   ]
  },
  {
   "cell_type": "code",
   "execution_count": 9,
   "id": "09bedeba",
   "metadata": {},
   "outputs": [],
   "source": [
    "model = DualSiglip2Model('BAAI/bge-small-en-v1.5', loss_type=\"clip\")\n",
    "\n",
    "embeddings = model.encode_text(df[\"nl\"].tolist(), batch_size=1000).detach().cpu().numpy()"
   ]
  },
  {
   "cell_type": "code",
   "execution_count": null,
   "id": "50b18536",
   "metadata": {},
   "outputs": [],
   "source": [
    "tsne = TSNE(n_components=2,\n",
    "            perplexity=30,\n",
    "            learning_rate=200,\n",
    "            n_iter=1000,\n",
    "            random_state=42,\n",
    "            init=\"pca\")\n",
    "coords = tsne.fit_transform(embeddings)\n",
    "\n",
    "df[\"x\"] = coords[:,0]\n",
    "df[\"y\"] = coords[:,1]\n",
    "\n",
    "fig = px.scatter(\n",
    "    df, x=\"x\", y=\"y\",\n",
    "    color=\"source\",               # color by data source\n",
    "    # size=\"quality\",               # optionally size by quality score\n",
    "    hover_data={\n",
    "        \"nl\": True,               # show the NL query on hover\n",
    "        \"bool\": True,             # show the bool query\n",
    "        \"quality\": True,\n",
    "        \"x\": False, \"y\": False\n",
    "    },\n",
    "    title=f\"t-SNE of {N} Text Embeddings\"\n",
    ")\n",
    "\n",
    "fig.update_traces(marker=dict(opacity=0.7, line_width=0.5))\n",
    "fig.update_layout(width=800, height=600)\n",
    "fig.show()"
   ]
  }
 ],
 "metadata": {
  "kernelspec": {
   "display_name": "RP",
   "language": "python",
   "name": "python3"
  },
  "language_info": {
   "codemirror_mode": {
    "name": "ipython",
    "version": 3
   },
   "file_extension": ".py",
   "mimetype": "text/x-python",
   "name": "python",
   "nbconvert_exporter": "python",
   "pygments_lexer": "ipython3",
   "version": "3.11.11"
  }
 },
 "nbformat": 4,
 "nbformat_minor": 5
}
