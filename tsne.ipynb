{
 "cells": [
  {
   "cell_type": "code",
   "execution_count": null,
   "id": "3a2f4040",
   "metadata": {},
   "outputs": [
    {
     "name": "stdout",
     "output_type": "stream",
     "text": [
      "data/training.jsonl\n",
      "data/TAR_data.jsonl\n",
      "data/sysrev_conv.jsonl\n"
     ]
    },
    {
     "name": "stderr",
     "output_type": "stream",
     "text": [
      "Finding similar: 100%|██████████| 2088/2088 [00:00<00:00, 3963.87it/s]\n",
      "Finding similar: 100%|██████████| 343/343 [00:00<00:00, 11415.47it/s]\n",
      "Finding similar: 100%|██████████| 79/79 [00:00<00:00, 31611.34it/s]\n",
      "Finding similar: 100%|██████████| 50/50 [00:00<00:00, 19948.18it/s]\n",
      "Finding similar: 100%|██████████| 40/40 [00:00<00:00, 39747.02it/s]\n"
     ]
    }
   ],
   "source": [
    "%load_ext autoreload\n",
    "%autoreload 2\n",
    "\n",
    "import pandas as pd\n",
    "from sklearn.manifold import TSNE\n",
    "import plotly.express as px\n",
    "from boolrank import DualSiglip2Model\n",
    "from my_processing import paths_to_dataset\n",
    "\n",
    "# Load data\n",
    "data_path = \"training\"\n",
    "paths = [\n",
    "    f\"data/{data_path}.jsonl\",\n",
    "    \"data/TAR_data.jsonl\",\n",
    "    \"data/sysrev_conv.jsonl\",\n",
    "]\n",
    "dataset = paths_to_dataset(\n",
    "    paths,\n",
    "    test_only_sources=['TAR', 'sysrev'],\n",
    "    # train_sources=['pubmed-searchrefiner','pubmed-query','raw-jsonl']\n",
    "    train_sources=['pubmed-searchrefiner','raw-jsonl']\n",
    ")"
   ]
  },
  {
   "cell_type": "code",
   "execution_count": null,
   "id": "e7d83ca4",
   "metadata": {},
   "outputs": [
    {
     "name": "stdout",
     "output_type": "stream",
     "text": [
      "(3782, 4)\n"
     ]
    },
    {
     "data": {
      "application/vnd.microsoft.datawrangler.viewer.v0+json": {
       "columns": [
        {
         "name": "index",
         "rawType": "int64",
         "type": "integer"
        },
        {
         "name": "nl",
         "rawType": "object",
         "type": "string"
        },
        {
         "name": "bool",
         "rawType": "object",
         "type": "string"
        },
        {
         "name": "quality",
         "rawType": "float64",
         "type": "float"
        },
        {
         "name": "source",
         "rawType": "object",
         "type": "string"
        }
       ],
       "ref": "a3d0c6af-b4a5-4975-9d74-9ad3eb534b0e",
       "rows": [
        [
         "0",
         "Education for contraceptive use by women after childbirth",
         " (\"Contraception\"[Mesh] OR \"Contraception Behavior\"[Mesh] OR \"Contraceptive Agents\"[Mesh] OR \"Contraceptive Devices\"[Mesh] OR \"family planning\") AND (educat* OR counsel* OR communicat* OR \"information dissemination\" OR intervention* OR choice OR choose OR use) AND (\"Postpartum Period\"[Mesh] OR \"Postnatal Care\"[Mesh] OR postpartum OR post-partum OR postnatal OR \"repeat pregnancy\"[tiab] OR mothers[ti]) AND (Clinical Trial[ptyp])",
         "0.27470873325465167",
         "raw-jsonl"
        ],
        [
         "1",
         "Preprocedural mouth rinses for preventing transmission of infectious diseases through aerosols in dental healthcare providers",
         " ((dental or dentist$ or hygienist$).mp. AND ((oral or maxillofacial) adj5 (care$ or procedure$ or surgery or surgical or medicine)).mp. AND (aerosol$ or bioaerosol$).mp. AND (mouthwash$ or gargl$ or mouthrins$).ab,ti.)",
         "0.5494174665093033",
         "raw-jsonl"
        ],
        [
         "2",
         "Clinical efficacy of home-use blue-light therapy for mild-to moderate acne.",
         "((\"Acne Vulgaris\"[Mesh] OR Acne[tiab] OR Pimples[tiab] OR Lesion[tiab]) AND (\"Phototherapy\"[Mesh] OR \"Blue light\"[tiab]  \"Photoradiation Therapies\"[tiab] OR \"Light Therapies\"[tiab] OR LED[tiab] OR Diode[tiab]))",
         "0.013326068200145489",
         "pubmed-searchrefiner"
        ],
        [
         "3",
         "Randomized trial of three phototherapy methods for the treatment of acne vulgaris in Chinese patients.",
         "((\"Acne Vulgaris\"[Mesh] OR Acne[tiab] OR Vulgaris[tiab] OR Lesion[tiab]) AND (\"Phototherapy\"[Mesh] OR \"Blue light\"[tiab] OR Phototherapy[tiab] OR \"Photoradiation therapy\"[tiab] OR \"Light Therapy\"[tiab]OR LED[tiab] OR Diode[tiab]))",
         "0.010352482733997323",
         "pubmed-searchrefiner"
        ],
        [
         "4",
         "Development and implementation of an emergency department observation unit protocol for deliberate drug ingestion in adults - preliminary results.",
         "(\"drug overdose\"[Mesh] OR Poisoning[Mesh] OR \"substance-related disorders\"[Mesh] OR \"Sodium Oxybate\"[Mesh] OR Overdose[tiab] OR Toxicology[tiab] OR Sedation[tiab] OR Poisoning[tiab] OR GHB[tiab] OR gamma-hydroxybutyrate[tiab] OR gamma-butyrolactone[tiab]) AND > (\"Emergency Service, Hospital\"[Mesh] OR \"Emergency Medicine\"[Mesh] OR \"Poison Control Centers\"[Mesh] OR Triage[Mesh] OR \"Emergency medicine\"[tiab] OR \"tertiary-care hospitals\"[tiab] OR \"University hospital\"[tiab] OR ((emergency[tiab]) AND (department*[tiab] OR ED[tiab]))) AND (\"Airway Management\"[Mesh] OR Capnography[Mesh] OR \"airway management\"[tiab] OR \"rapid sequence induction\"[tiab] OR Intubation[tiab] OR Intubate[tiab] OR intubated[tiab] OR \"observation unit\"[tiab])",
         "0.013469359256061034",
         "pubmed-searchrefiner"
        ],
        [
         "5",
         "Neurodevelopmental outcome in preschool survivors of complex congenital heart disease: implications for clinical practice.",
         "(Neurodevelopmental Disorders[MeSH Terms] OR Cognition Disorders[MeSH Terms] OR \"Referral and Consultation\"[All Fields] OR Quality of Health Care[Title/Abstract] OR Outcome Assessment, Health Care[MeSH Terms] OR Child Development[MeSH Terms] OR Delivery of Health Care[MeSH Terms] OR \"Epidemiologic Studies\"[MeSH Terms] OR Neuropsychological Tests[MeSH Terms] OR Intelligence Tests[MeSH Terms] OR Mass screening[MeSH Terms] OR \"early intervention\"[Title/Abstract] OR (development*[Title/Abstract] AND (evaluat*[Title/Abstract] OR outcome*[Title/Abstract] OR risk[Title/Abstract] OR assess*[Title/Abstract] OR test*[Title/Abstract] OR follow-up[Title/Abstract] OR delay*[Title/Abstract] OR disabilit*[Title/Abstract] OR disorder*[Title/Abstract] OR impair*[Title/Abstract] OR limit*[Title/Abstract] OR problem*[Title/Abstract] OR function*[Title/Abstract] OR change*[Title/Abstract] OR prognosis[Title/Abstract] OR screen*[Title/Abstract] OR examin*[Title/Abstract] OR refer*[Title/Abstract] OR tool*[Title/Abstract] OR surveillance[Title/Abstract] OR therap*[Title/Abstract] OR intervent*[Title/Abstract] OR program*[Title/Abstract] OR model*[Title/Abstract] OR care[Title/Abstract])) OR (neurodevelopment*[Title/Abstract] AND (evaluat*[Title/Abstract] OR outcome*[Title/Abstract] OR risk[Title/Abstract] OR assess*[Title/Abstract] OR test*[Title/Abstract] OR follow-up[Title/Abstract] OR delay*[Title/Abstract] OR disabilit*[Title/Abstract] OR disorder*[Title/Abstract] OR impair*[Title/Abstract] OR limit*[Title/Abstract] OR problem*[Title/Abstract] OR function*[Title/Abstract] OR change*[Title/Abstract] OR prognosis[Title/Abstract] OR screen*[Title/Abstract] OR examin*[Title/Abstract] OR refer*[Title/Abstract] OR tool*[Title/Abstract] OR surveillance[Title/Abstract] OR therap*[Title/Abstract] OR intervent*[Title/Abstract] OR program*[Title/Abstract] OR model*[Title/Abstract] OR care[Title/Abstract])))",
         "0.1252650410813676",
         "pubmed-searchrefiner"
        ],
        [
         "6",
         "Lifestyle advice to cancer survivors: a qualitative study on the perspectives of health professionals.",
         "(perspective* OR perception*) AND (\"health professional*\" OR \"primary care provider*\" OR \"general practitioner*\" OR \"cancer nurse*\" OR \"practice nurse*\" OR \"cancer specialist nurse*\" OR nurse* OR oncologist* OR doctor* OR consumer* OR famil* OR carer* OR caregiver*) AND (role* OR responsibilit*) AND (nutrition OR \"nutrition* recommendation*\" OR \"nutrition* education\" OR \"healthy eating\" OR exercise OR \"physical activity\" OR activity OR training OR lifestyle OR \"lifestyle advice\" OR \"health promotion\") AND (\"cancer survivor*\" OR \"cancer patient*\" OR cancer* OR oncology)",
         "0.09635772390874431",
         "pubmed-searchrefiner"
        ],
        [
         "7",
         "Effect of intubation for gamma-hydroxybutyric acid overdose on emergency department length of stay and hospital admission.",
         "(\"drug overdose\"[Mesh] OR Poisoning[Mesh] OR \"substance-related disorders\"[Mesh] OR \"Sodium Oxybate\"[Mesh] OR Overdose[tiab] OR Toxicology[tiab] OR Sedation[tiab] OR Poisoning[tiab] OR GHB[tiab] OR gamma-hydroxybutyrate[tiab] OR gamma-butyrolactone[tiab]) AND > (\"Emergency Service, Hospital\"[Mesh] OR \"Emergency Medicine\"[Mesh] OR \"Poison Control Centers\"[Mesh] OR Triage[Mesh] OR \"Emergency medicine\"[tiab] OR \"tertiary-care hospitals\"[tiab] OR \"University hospital\"[tiab] OR ((emergency[tiab]) AND (department*[tiab] OR ED[tiab]))) AND (\"Airway Management\"[Mesh] OR Capnography[Mesh] OR \"airway management\"[tiab] OR \"rapid sequence induction\"[tiab] OR Intubation[tiab] OR Intubate[tiab] OR intubated[tiab] OR \"observation unit\"[tiab])",
         "0.013469359256061034",
         "pubmed-searchrefiner"
        ],
        [
         "8",
         "Effects of a workplace physical exercise intervention on the intensity of headache and neck and shoulder symptoms and upper extremity muscular strength of office workers: a cluster randomized controlled cross-over trial.",
         "(\"desk-based worker*\"[Title/Abstract] OR \"desk worker*\"[Title/Abstract] OR \"office worker*\"[Title/Abstract] OR \"office employee*\"[Title/Abstract] OR \"student*\"[Title/Abstract] OR \"computer user*\"[Title/Abstract] OR \"computer worker*\"[Title/Abstract] OR \"Students\"[MeSH] OR \"Adult\"[MeSH]) AND (\"neck pain\"[Title/Abstract] OR \"neckache\"[Title/Abstract] OR \"neck disorder*\"[Title/Abstract] OR \"cervicalgia\"[Title/Abstract] OR \"chronic neck pain\"[Title/Abstract] OR (\"neck pain/prevention and control\"[MeSH] OR \"neck pain/rehabilitation\"[MeSH] OR \"neck pain/therapy\"[MeSH])) AND (\"self-management\"[Title/Abstract] OR \"self-care\"[Title/Abstract] OR \"education\"[Title/Abstract] OR \"Exercise Therap*\"[Title/Abstract] OR \"ergonomic*\"[Title/Abstract] OR \"Ergonomics\"[MeSH] OR \"Posture\"[MeSH] OR \"self management/education\"[MeSH] OR \"self management/methods\"[MeSH] OR \"self care\"[MeSH] OR \"Exercise\"[MeSH] OR \"Exercise Therapy\"[MeSH])",
         "0.056938655036985274",
         "pubmed-searchrefiner"
        ],
        [
         "9",
         "Association between gestational weight gain according to body mass index and postpartum weight in a large cohort of Danish women.",
         "((((\"pregnancy\"[MeSH Terms] OR \"pregnancy\"[Title/Abstract] OR \"gestation\"[Title/Abstract]) AND (\"weight gain\"[Title/Abstract] OR \"weight gain\"[MeSH Terms] OR \"weight increase\"[Title/Abstract] OR \"gestational weight gain\"[MeSH Terms] OR \"gestational weight gain\"[Title/Abstract] OR \"GWG\"[Title/Abstract] OR \"risk factors\"[Title/Abstract] OR \"risk factors\"[MeSH Terms])) AND (\"postpartum period\"[MeSH Terms] OR \"postpartum\"[Title/Abstract] OR \"after delivery\"[Title/Abstract] OR \"after birth\"[Title/Abstract] OR \"interpregnancy\"[Title/Abstract])) AND (\"body weight\"[MeSH Terms] OR \"body weight\"[Title/Abstract] OR \"body mass index\"[Title/Abstract] OR \"body mass index\"[MeSH Terms] OR \"BMI\"[Title/Abstract] OR \"postpartum weight retention\"[Title/Abstract] OR \"PPWR\"[Title/Abstract] OR \"PWR\"[Title/Abstract] OR \"weight change\"[Title/Abstract] OR \"weight retention\"[Title/Abstract]))",
         "0.089475029343834",
         "pubmed-searchrefiner"
        ],
        [
         "10",
         "The relationship between nurses assessment of early pressure ulcer damage and sub epidermal moisture measurement: A prospective explorative study.",
         "(\"Pressure Ulcer\"[Mesh] OR \"Pressure ulcer\"[tiab] OR \"Pressure ulcers\"[tiab] OR Bedsore[tiab] OR Bedsores[tiab] OR \"Pressure Sore\"[tiab] OR \"Pressure Sores\"[tiab] OR \"Pressure injuries\"[tiab] OR \"Pressure injury\"[tiab] OR \"Pressure injuries\"[tiab] OR \"Decubitus Ulcer\"[tiab] OR \"Decubitus Ulcers\"[tiab]) AND (Subepidermal[tiab] OR Sub-epidermal[tiab] OR \"Sub epidermal\"[tiab] OR SEM[tiab] OR Moisture[tiab]) ",
         "0.06592896899019347",
         "pubmed-searchrefiner"
        ],
        [
         "11",
         "Prison officers' attitudes towards self-harm in prisoners.",
         "(stigma[TIAB] OR stigmatization[TIAB] OR stigmatisation[TIAB] OR anti-stigma[TIAB] OR \"Social Stigma\"[Mesh] OR \"Social Discrimination\"[Mesh] OR \"Attitude\"[Mesh] OR \"Attitude of Health Personnel\"[Mesh] OR \"Prejudice\"[Mesh] OR \"Social Distance\"[Mesh] OR Stereotyping[Mesh] OR Social Perception[Mesh] OR \"Rejection (Psychology)\"[Mesh] OR Shame[Mesh]) ",
         "0.208775068468946",
         "pubmed-searchrefiner"
        ],
        [
         "12",
         "Interventions for preventing type 2 diabetes in adults with mental disorders in low- and middle-income countries",
         " ((\"fasting glucose\" or \"plasma glucose\" or \"oral glucose tolerance test\" or (glyc*emic near/2 control*)):ti,ab,kw)",
         "0.5494174665093033",
         "raw-jsonl"
        ],
        [
         "13",
         "[Therapeutic effectiveness of the soft palate fold surgery in patients with obstructive sleep apnea hypopnea syndrome].",
         "sleep[mh] AND endoscopy[mh]",
         "1.252650410813676",
         "pubmed-searchrefiner"
        ],
        [
         "14",
         "One-Year Outcomes After Minimally Invasive Sacrocolpopexy.",
         "((\"robotic sacrocolpopexy\" OR \"robotic sacral colpopexy\") or (robotic* and (sacrocolpopex*[tiab] or sacral colpopex*[tiab])) or (Robotics[Mesh] OR \"Surgery, Computer-Assisted\"[Mesh])) and (prolapse*[tiab] OR \"Uterine Prolapse\"[Mesh])",
         "0.05010601643254704",
         "pubmed-searchrefiner"
        ],
        [
         "15",
         "Bedtime Stress Increases Sleep Latency and Impairs Next-Day Prospective Memory Performance.",
         "1       exp Sleep/   2  sleep*.ti,ab.   3  1 or 2  212500 4  Models, Biological/   5  (biomathematical* or \"bio mathematical\" or \"bio-mathematical\" or bmm or (sleep* and model) or (fatigue* and model) or (perform* and model) or (predict* and model)).ti,ab.  6 6  4 or 5   7  ((cognitive and performance) or (neurocognitive and decline) or (neurocognitive and performance) or (task and performance) or (risk and performance) or (accident and performance)).ti,ab.   8  Cognition Disorders/   9  Cognition/  1 10  7 or 8 or 9   11  3 and 6 and 10  ",
         "0.1565813013517095",
         "pubmed-searchrefiner"
        ],
        [
         "16",
         "Risk of heart failure after community acquired pneumonia: prospective controlled study with 10 years of follow-up.",
         "'community acquired pneumonia'/exp",
         "0.626325205406838",
         "pubmed-searchrefiner"
        ],
        [
         "17",
         "Clinical efficacy of home-use blue-light therapy for mild-to moderate acne.",
         "((\"Acne Vulgaris\"[Mesh] OR Acne[tiab] OR Vulgaris[tiab]]) AND (\"Phototherapy\"[Mesh] OR \"Blue light\"[tiab] OR Phototherapy[tiab] OR \"Light Therapy\"[tiab] OR Diode[tiab]))",
         "0.017397922372412167",
         "pubmed-searchrefiner"
        ],
        [
         "18",
         "Melatonin for the treatment of dementia",
         " ((melatonin or N-acetyl-5-methoxytryptamine) and (delirium or dementia or cognitive disorders or alzheimer or lewy bodies or arteriosclerosis or huntington or kluver-bucy or pick disease or cerebrovascular disorders or wernicke encephalopathy or korsakoff syndrome or memory decline or cognitive impairment))",
         "0.5494174665093033",
         "raw-jsonl"
        ],
        [
         "19",
         "Clinical efficacy of home-use blue-light therapy for mild-to moderate acne.",
         "((\"Acne Vulgaris\"[Mesh] OR Acne[tiab] OR Vulgaris[tiab] OR Lesion[tiab]) AND (\"Phototherapy\"[Mesh] OR \"Blue light\"[tiab] OR Phototherapy[tiab] OR \"Light Therapy\"[tiab] OR LED[tiab] OR Diode[tiab]))",
         "0.011387731007397053",
         "pubmed-searchrefiner"
        ],
        [
         "20",
         "Pyrosequencing study of fecal microflora of autistic and control children.",
         "(autism OR asd) AND (microbiota OR gut OR gastrointesti*) AND (children OR human*) AND (healthy OR group OR compare* OR associate*)",
         "0.07368531828315741",
         "pubmed-searchrefiner"
        ],
        [
         "21",
         "A longitudinal study of low back pain and daily vibration exposure in professional drivers.",
         "(\"Commercial Driver\" OR \"Professional Driver\" OR \"Occupational Driver\" OR \"Transit Driver\" OR \"Truck Driver\" OR \"Taxi Driver\" OR \"Bus driver\" OR \"Delivery Driver\" OR \"Long Haul\" OR \"Driv*\")     AND     (\"Musculoskeletal Injur*\" OR \"MSD\" OR \"Soft Tissue Injur*\" OR \"Back Pain\" OR \"Neck Injur*\" OR \"Whiplash\" OR \"Shoulder injur*\" OR \"Spine\" OR \"Hip\" OR \"Knee\" OR \"Pain\" OR \"Injur*\" OR \"Musculoskeletal Pain\"[Mesh]) ",
         "0.1565813013517095",
         "pubmed-searchrefiner"
        ],
        [
         "22",
         "Sleep breathing disorder frequency, risk factors, and treatment among adults with cystic fibrosis.",
         "(Polysomnography[tiab] OR PSG[tiab]) AND data[tiab] AND sleep[tiab]",
         "0.2505300821627352",
         "pubmed-searchrefiner"
        ],
        [
         "23",
         "An insight into the preoperative experiences of Ghanaian general surgical patients.",
         "1. (general or colorectal or cholecystectomy or colonoscopy or endoscopy or skin excision or hernia repair or endocrine or mastectomy or gastrointestinal or debridement or colorectal resection).ab,ti. 2. (patient or patients or user or consumer).ab,ti. 3. (experience or perception).ab,ti. 4. 1 and 2 and 3",
         "0.2505300821627352",
         "pubmed-searchrefiner"
        ],
        [
         "24",
         "Diagnostic utility of the Active Compression Test for the superior labrum anterior posterior tear: A systematic review.",
         "shoulder [tiab] OR rotator?cuff [tiab] OR tendinopathy [tiab]",
         "0.417550136937892",
         "pubmed-searchrefiner"
        ],
        [
         "25",
         "Robot-assisted versus open sacrocolpopexy: a cost-minimization analysis.",
         "\"Robotic Surgical Procedures\"[Mesh] AND (((\"robotic sacrocolpopexy\" OR \"robotic sacral colpopexy\") or (Robotics[Mesh] OR \"Surgery, Computer-Assisted\"[Mesh]) or (robot* and (sacrocolpopex*[tiab] or sacral colpopex*[tiab]))) and (\"Uterine Prolapse\"[Mesh] OR prolapse*[tiab]))",
         "0.05446306133972504",
         "pubmed-searchrefiner"
        ],
        [
         "26",
         "A multicenter, randomized, split-face clinical trial evaluating the efficacy and safety of chromophore gel-assisted blue light phototherapy for the treatment of acne.",
         "((\"Acne Vulgaris\"[Mesh] OR Acne[tiab] OR Blackheads[tiab] OR Whiteheads[tiab] OR Pimples[tiab] OR Vulgaris[tiab] AND (\"Phototherapy\"[Mesh] OR \"Blue light\"[tiab] OR Phototherapy[tiab] OR \"Photoradiation therapy\"[tiab] OR \"Photoradiation Therapies\"[tiab] OR LED[tiab] OR Diode[tiab]))",
         "0.004093628793508745",
         "pubmed-searchrefiner"
        ],
        [
         "27",
         "Predictors and adverse outcomes of inadequate or excessive gestational weight gain in an Asian population.",
         "(\"pregnancy\"[MeSH Terms] OR \"pregnan*\"[Title/Abstract] OR \"gestation*\"[Title/Abstract]) AND (\"weight gain\"[Title/Abstract] OR \"weight gain\"[MeSH Terms] OR \"weight increase\"[Title/Abstract] OR \"gestational weight gain\"[MeSH Terms] OR \"gestational weight gain\"[Title/Abstract] OR \"GWG\"[Title/Abstract] OR \"risk factor*\"[Title/Abstract] OR \"risk factors\"[MeSH Terms]) AND (\"postpartum period\"[MeSH Terms] OR \"postpartum\"[Title/Abstract] OR \"after delivery\"[Title/Abstract] OR \"after birth\"[Title/Abstract] OR \"interpregnancy\"[Title/Abstract) AND (\"body weight\"[MeSH Terms] OR \"body weight\"[Title/Abstract] OR \"body mass index\"[Title/Abstract] OR \"body mass index\"[MeSH Terms] OR \"BMI\"[Title/Abstract] OR \"postpartum weight retention\"[Title/Abstract] OR \"PPWR\"[Title/Abstract] OR \"PWR\"[Title/Abstract] OR \"weight change\"[Title/Abstract] OR \"weight retention\"[Title/Abstract])",
         "0.089475029343834",
         "pubmed-searchrefiner"
        ],
        [
         "28",
         "Cancer specialist nurses' perspectives of physical activity promotion and the potential role of physical activity apps in cancer care.",
         "(perspective* OR perception*) AND (nurs*) AND (role* OR responsibilit*) AND (cancer*) AND (nutrition OR \"nutrition* intervention*\" OR \"nutrition* recommendation*\" OR \"healthy eating\" OR exercise OR \"physical activity\" OR \"physical therapy\" OR activity OR training OR lifestyle OR \"lifestyle advice\")",
         "0.1565813013517095",
         "pubmed-searchrefiner"
        ],
        [
         "29",
         "Xpert Ultra versus Xpert MTB/RIF for pulmonary tuberculosis and rifampicin resistance in adults with presumptive pulmonary tuberculosis",
         " ((tuberculosis or TB).tw OR Mycobacterium tuberculosis/ OR (tuberculosis, Multidrug-Resistant/ or Tuberculosis/ or Tuberculosis, Pulmonary/)) AND (Xpert or GeneXpert or cepheid or (near* patient)).tw",
         "0.5494174665093033",
         "raw-jsonl"
        ],
        [
         "30",
         "Profile of Self-Reported Physical Tasks and Physical Training in Brazilian Special Operations Units: A Web-Based Cross-Sectional Study.",
         "(\"Police\"[Mesh]) OR Tactical Athlete OR SWAT OR Special Weapons Unit OR Special Response Team) AND (\"Exercise Test\"[Mesh] or \"Exercise\"[Mesh] or Strength OR Power OR Load Carriage OR Military Fitness OR Physical Endurance OR Physiology OR Human Performance OR Agility OR Grip Strength OR Physical Readiness OR Occupational Demands OR optimization OR Conditioning or Tactical Strength and Conditioning) Filters: Humans, English\t",
         "0.626325205406838",
         "pubmed-searchrefiner"
        ],
        [
         "31",
         "Low-level laser therapy in the prevention and treatment of chemotherapy-induced oral mucositis in young patients.",
         "(hematopoietic stem cell transplantation OR bone marrow transplantation OR antineoplastic agent OR neoplasm OR hematooncolog*[tiab] OR \"biochemotherap*\"[tiab] OR cancer*[tiab] OR carcinogen*[tiab] OR chemotherap*[tiab] OR cytotoxic*[tiab] OR hematolo*[tiab] OR hematooncological[tiab] OR hemato-oncological[tiab] OR leuk?emia*[tiab] OR lymphoma*[tiab] OR malignan*[tiab] OR oncolog*[tiab] OR tumo?r*[tiab] antineoplastic[tiab] OR antitumor[tiab] OR cancer[tiab] OR melphalan)  AND  (\"low level light therapy\" OR laser OR photobiomodulation[tiab] OR LLLT[tiab] OR \"low power laser irradiation\" [tiab] OR \"low power laser therapy\" [tiab] OR \"laser phototherapy\" [tiab] OR\"low energy laser treatment\"[tiab] OR \"low level laser\" [tiab] OR \"light therapy\"[tiab] OR \"laser treatment\"[tiab] OR \"laser biostimulation\"[tiab] OR LED[tiab] OR \"Light-emitting diode\"[tiab] OR Diode[tiab] OR \"Visible light\"[tiab] OR \"He-Ne\"[tiab] OR \"InGaAlP\"[tiab] OR \"GaAlAs\"[tiab] OR \"InGaAs\"[tiab] OR \"CO2\"[tiab] OR \"Infra-red\"[tiab])  AND  (Stomatitis[Mesh] OR \"Oral Ulcer*\"[Mesh] OR mucositis [tw] OR \"oral mucositis\" [tw] OR \"oromucositi*\" [tw])  AND  (child* OR infant* OR pediatric* OR adolescen* OR teen* OR youth)    ",
         "0.208775068468946",
         "pubmed-searchrefiner"
        ],
        [
         "32",
         "Non-steroidal anti-inflammatory drugs for heavy bleeding or pain associated with intrauterine-device use",
         " ((intrauterine devices OR intrauterine system* OR IUD* OR IUC* OR IUS) AND (NSAID* OR anti inflammatory agents, nonsteroidal))",
         "0.5494174665093033",
         "raw-jsonl"
        ],
        [
         "33",
         "Clinical efficacy of home-use blue-light therapy for mild-to moderate acne.",
         "((\"Acne Vulgaris\"[Mesh] OR Acne[tiab]) AND (\"Blue light\"[tiab] OR Phototherapy[tiab] OR \"Photoradiation Therapies\"[tiab]))",
         "0.019572662668963688",
         "pubmed-searchrefiner"
        ],
        [
         "34",
         "Phototherapy with blue (415 nm) and red (660 nm) light in the treatment of acne vulgaris.",
         "1     exp Sutures/ (17714)  2     (((suture* or stitch*) adj3 clos*) or surg*).mp. [mp=title, abstract, original title, name of substance word, subject heading word, floating sub-heading word, keyword heading word, organism supplementary concept word, protocol supplementary concept word, rare disease supplementary concept word, unique identifier, synonyms] (3252153)  3     1 or 2 (3255481)  4     exp Anesthesia, Local/ (17389)  5     exp Anesthetics, Local/ (105710)  6     ((local adj3 anaesth*) or anesth* or infiltration).mp. [mp=title, abstract, original title, name of substance word, subject heading word, floating sub-heading word, keyword heading word, organism supplementary concept word, protocol supplementary concept word, rare disease supplementary concept word, unique identifier, synonyms] (542335)  7     ((subcutaneous or Cutaneous) adj infiltration).mp. [mp=title, abstract, original title, name of substance word, subject heading word, floating sub-heading word, keyword heading word, organism supplementary concept word, protocol supplementary concept word, rare disease supplementary concept word, unique identifier, synonyms] (394)  8     4 or 5 or 6 or 7 (599599)  9     3 and 8 (169774)  10     exp Fingers/ (38203)  11     exp Toes/ (12115)  12     (finger* or toe* or thumb*).mp. [mp=title, abstract, original title, name of substance word, subject heading word, floating sub-heading word, keyword heading word, organism supplementary concept word, protocol supplementary concept word, rare disease supplementary concept word, unique identifier, synonyms] (211356)  13     or/10-12 (212404)  14     9 and 13 (1643)  15     exp Pain Management/ (35860)  16     exp Pain Measurement/ (88346)  17     ((pain* adj relief) or reliev* or discomfort* or sting* or throb* or hurt* or sore or ach*).mp. [mp=title, abstract, original title, name of substance word, subject heading word, floating sub-heading word, keyword heading word, organism supplementary concept word, protocol supplementary concept word, rare disease supplementary concept word, unique identifier, synonyms] (1366022)  18     15 or 16 or 17 (1461933)  19     14 and 18 (297)  20     exp treatment outcome/ (1095500)  21     (effect* or efficac*).mp. [mp=title, abstract, original title, name of substance word, subject heading word, floating sub-heading word, keyword heading word, organism supplementary concept word, protocol supplementary concept word, rare disease supplementary concept word, unique identifier, synonyms] (10149160)  22     20 or 21 (10621208)  23     19 and 22 (206)    ",
         "1.252650410813676",
         "pubmed-searchrefiner"
        ],
        [
         "35",
         "A blinded clinical study using a subepidermal moisture biocapacitance measurement device for early detection of pressure injuries.",
         " (\"Pressure Ulcer\"[MeSH Major Topic] OR (\"pressure ulcer*\"[Text Word] OR \"pi\"[All Fields]) OR  \"decubitus sore*\"[Text Word])) AND (\"sem\"[All Fields] OR \"subepidermal moisture\"[All Fields] OR \"sub-epidermal moisture\"[All Fields] OR \"sub-epidermal moisture\"[All Fields]) AND (\"Prognosis\"[MeSH Major Topic] OR (\"assessment*\"[All Fields]))  ",
         "0.13918337897929733",
         "pubmed-searchrefiner"
        ],
        [
         "36",
         "Effect of video-guided educational intervention on school engagement of adolescent students with hearing impairment: Implications for health and physical education.",
         "((((\"school belong*\"[Title/Abstract]) OR (\"sense of belong*\"[Title/Abstract]) OR (\"class* belong*\"[Title/Abstract]) OR (\"student belong*\"[Title/Abstract])) AND ((divers*[Title/Abstract]) OR (at-risk[Title/Abstract]) OR (LGBT*[Title/Abstract]) OR (\"sexual identit*\"[Title/Abstract]) OR (gender[Title/Abstract]) OR (disadvantag*[Title/Abstract]) OR (\"social class\"[Title/Abstract]) OR (\"socio-economic status\"[Title/Abstract]) OR (\"socioeconomic status\"[Title/Abstract]) OR (\"SES\"[Title/Abstract]) OR (socio-demograph*[Title/Abstract]) OR (Indigen*[Title/Abstract]) OR (\"First Nation*\"[Title/Abstract]) OR (Aborigin*[Title/Abstract]) OR (regional[Title/Abstract]) OR (remote[Title/Abstract]) OR (ethnic*[Title/Abstract]) OR (rac*[Title/Abstract]) OR (disab*[Title/Abstract]) OR (minorit*[Title/Abstract]) OR (marginal*[Title/Abstract]) OR (migrant*[Title/Abstract]) OR (immigrant*[Title/Abstract]) OR (refugee*[Title/Abstract]))) AND ((interven*[Title/Abstract]) OR (program*[Title/Abstract]) OR (train*[Title/Abstract]) OR (schem*[Title/Abstract]) OR (initiat*[Title/Abstract]) OR (coach*[Title/Abstract]) OR (workshop*[Title/Abstract]) OR (curricul*[Title/Abstract]) OR (strateg*[Title/Abstract]))) AND ((school*[Title/Abstract]) OR (\"primary class*\"[Title/Abstract]) OR (\"primary student*\"[Title/Abstract]) OR (\"primary educat*\"[Title/Abstract]) OR (\"elementary class*\"[Title/Abstract]) OR (\"elementary student*\"[Title/Abstract]) OR (\"elementary educat*\"[Title/Abstract]) OR (\"secondary class*\"[Title/Abstract]) OR (\"secondary student*\"[Title/Abstract]) OR (\"secondary educat*\"[Title/Abstract]))",
         "0.1565813013517095",
         "pubmed-searchrefiner"
        ],
        [
         "37",
         "Targeted surveillance for postnatal hearing loss: a program evaluation.",
         "1 exp Hearing Loss/   2 hearing loss.mp.   3 hearing impair*.mp.   4 deaf*.mp.   5 hypoacus*.mp.   6 progressive hearing loss.mp.   7 late onset hearing loss.mp.   8 postnatal hearing loss.mp.   9 acquired hearing loss.mp.   10 post-natal hearing loss.mp.  11 delayed onset hearing loss.mp.   12 1 or 2 or 3 or 4 or 5 or 6 or 7 or 8 or 9 or 10 or 11   13 exp Genetic Predisposition to Disease/   14 genetic predisposition to disease.mp.   15 family history.mp.   16 exp Child/   17 exp Infant/   18 newborn.mp.   19 neonatal.mp.   20 children.mp.   21 child.mp.   22 infant.mp.   23 16 or 17 or 18 or 19 or 20 or 21 or 22   24 exp Alleles/   25 exp Connexins/   26 exp Family Health/   27 exp Genotype/   28 alleles.mp.   29 connexins.mp.   30 family health.mp.   31 genotype.mp.   32 hereditary hearing loss.mp.   33 13 or 14 or 15 or 24 or 25 or 26 or 27 or 28 or 29 or 30 or 31 or 32   34 12 and 23 and 33   ",
         "0.178950058687668",
         "pubmed-searchrefiner"
        ],
        [
         "38",
         "Subepidermal moisture detection of heel pressure injury: The pressure ulcer detection study outcomes.",
         "(\"Pressure Ulcer\"[MeSH Major Topic] OR (\"pressure ulcer*\"[Text Word] OR \"pressure injur*\"[Text Word] OR \"PU\"[All Fields] OR (\"proteomics insights\"[Journal] OR \"prostate int\"[Journal] OR \"patient intell\"[Journal] OR \"pi\"[All Fields]) OR \"bed sore*\"[Text Word] OR \"bedsore*\"[All Fields] OR \"decubitus ulcer*\"[Text Word] OR \"decubitus sore*\"[Text Word])) AND (\"struct equ modeling\"[Journal] OR \"scan electron microsc\"[Journal] OR \"sem\"[All Fields] OR \"subepidermal moisture\"[All Fields] OR \"sub-epidermal moisture\"[All Fields] OR \"sub-epidermal moisture\"[All Fields]) AND  OR (\"progno*\"[All Fields] OR \"predict*\"[All Fields] OR (\"attitude\"[MeSH Terms] OR \"attitude\"[All Fields] OR \"outlook\"[All Fields] OR \"outlooks\"[All Fields]) OR \"forecast*\"[All Fields] OR \"screen*\"[All Fields] OR \"risk assessment*\"[Text Word] OR \"assessment*\"[All Fields]))",
         "0.06959168948964867",
         "pubmed-searchrefiner"
        ],
        [
         "39",
         "Pressure-relieving interventions for treating diabetic foot ulcers",
         " (pressure relie$.mp OR pressure reduc$.mp OR (pressure adj (distribut$ or redistribut$)).mp OR (alternat$ adj pressure).mp OR constant pressure.mp OR exp Bed Rest/ OR bed rest.mp OR exp Bony Callus/ OR callus.mp OR hosiery.mp OR stocking$.mp OR exp Shoes/ OR (shoe$ or boot$ or footwear).mp OR exp Orthotic Devices/ OR (orthoses or orthosis).mp OR orthotic$.mp OR insole$.mp OR foot insert$.mp OR cushion$.mp OR (heel adj elevat$).mp OR (elevat$ adj device$).mp OR (foot adj elevat$).mp OR (foot adj lift$).mp OR (cast or casts or casting).mp OR (aircast$ or scotchcast$ or neofract).mp OR exp Diabetic Foot/ OR exp Foot Ulcer/ OR (diabet$ adj3 ulcer$).mp OR (diabet$ adj3 (foot or feet)).mp) AND (26 and 31)",
         "0.5494174665093033",
         "raw-jsonl"
        ],
        [
         "40",
         "Multidisciplinary care for Guillain-Barr� syndrome",
         " ((exp Guillain Barre Syndrome/) OR ((acute inflammatory demyelinating polyradiculoneuropath$ OR acute motor axonal neuropath$ OR acute motor sensory axonal neuropath$).tw.) OR (Miller Fisher.tw.) OR (acute pandysautonomia$1.tw.) OR (polyradiculoneuropathy/) OR (polyneuropathies/) OR (acute polyradiculoneuritis.tw.) OR (acute polyneuritis.tw.) OR ((inflammatory adj5 neuropath$3).tw.) OR ((inflammatory adj5 polyneuropath$3).tw.) OR (guillain barre.tw.) OR (or/1-11) AND (exp Ambulatory Care/) OR (exp Rehabilitation/) OR (exp Hospitalization/) OR (exp Physical Therapy Modalities/) OR (exp Home Care Services, Hospital-Based/) OR (Home Care Services/) OR (exp Inpatients/) OR (exp Outpatients/) OR (exp Cognitive Therapy/) OR (Behavior Therapy/) OR (exp Social Work/) OR (exp Dietetics/) OR (exp Dietary Services/) OR (Counseling/) OR (Patient Care Team/) OR ((multidisciplinary or intergrated).tw.) OR ((rehabilitat$ or physiotherap$ or physical therap$ or speech or occupation$ or social work).tw.) OR ((cognitive therap$ or behavio?r therap$ or counsel?ing or nutrition or diet$ or food).tw.) OR ((outpatient$ or inpatient$ or hospital$ or home).tw.) OR (or/13-31)) AND (12 and 32)",
         "0.5494174665093033",
         "raw-jsonl"
        ],
        [
         "41",
         "The relationship between nurses assessment of early pressure ulcer damage and sub epidermal moisture measurement: A prospective explorative study.",
         "(\"Pressure Ulcer\"[Majr] OR \"pressure ulcer*\"[Text Word] OR \"pressure injur*\"[Text Word] OR PU OR PI OR \"bed sore*\"[Text Word] OR bedsore* OR \"decubitus ulcer*\"[Text Word] OR \"decubitus sore*\"[Text Word]) AND (SEM OR \"subepidermal moisture\" OR \"sub-epidermal moisture\" OR \"sub epidermal moisture\") AND (Prognosis[Majr] OR \"Natural history\"[tiab] OR \"Natural course\"[tiab] OR \"Clinical course\"[tiab] OR \"Watchful waiting\"[tiab] OR (Wait[tiab] AND see[tiab]) OR \"Active monitoring\"[tiab] OR Prognosis[tiab] OR \"Disease Progression\"[tiab] OR \"risk* assessment*\"[Text Word] OR assessment* [Text Word])",
         "0.417550136937892",
         "pubmed-searchrefiner"
        ],
        [
         "42",
         "The clinical and histological effect of home-use, combination blue-red LED phototherapy for mild-to-moderate acne vulgaris in Korean patients: a double-blind, randomized controlled trial.",
         "((\"value of information\"[All Fields] OR \"value of research\"[All Fields] OR \"return on investment\"[All Fields] OR \"research impact\"[All Fields] OR \"payback\"[All Fields]) AND (\"clinical trial\"[All Fields] OR \"research\"[All Fields])) AND ((fft[Filter]) AND (humans[Filter]) AND (2000/1/1:2020/11/30[pdat]) AND (english[Filter])) ",
         "0.626325205406838",
         "pubmed-searchrefiner"
        ],
        [
         "43",
         "Ceftolozane-Tazobactam for the Treatment of Multidrug-Resistant Pseudomonas aeruginosa Infections: A Multicenter Study.",
         "((*Pseudomonas Infections/mi or *Pseudomonas Infections/ep or Pseudomonas Infections/di) or (Pseudomonas* or aeruginosa* or Pseudomonas aeruginosa)) AND (((beta lactamases for metallo beta lactamase or ml or mbls).tw.) OR (exp Drug Resistance, Bacterial/ or *Drug Resistance, Bacterial/) OR (exp Drug Resistance multiple, Bacterial/ or *Drug Resistance, Multiple, Bacterial/) OR ((resistant or resistance or MDR or multidrug resistance or multidrug resistant or multi-drug resistance or multi-drug resistant or multidrug-resistant or multidrug-resistance or extreme-drug resistant or XDR or extensive drug-resistant or multiresistant or Carbapenem-resistant or aztreonam-resistant).tw.) OR (MDR-PA or XDRPA or CRPA or MR-PA)) AND ((Cefiderocol or ceftazidime-avibactam or aztreonam or ceftolozane-tazobactam or eravacycline or imipenem-cilastatin or relebactam or varbobactam or minocycline or nitrofurantoin or plazomicin)) AND ((Solid Organ Transplant) OR (transplant*) OR (posttransplant* OR post-transplant*) OR (recipient*) OR (Transplants) OR (exp Organ Transplantation/) OR (Transplantation))",
         "0.1565813013517095",
         "pubmed-searchrefiner"
        ],
        [
         "44",
         "Rapid diagnostic tests for bacterial meningitis applicable in sub-Saharan Africa",
         " ((Mening* or Neisseria meningitidis or Haemophilus influenzae or Streptococcus pneumoniae) and (Diag* or Dipstick or RDT or Rapid diagnos* test*))",
         "0.5494174665093033",
         "raw-jsonl"
        ],
        [
         "45",
         "Observation unit management of low-risk emergency department patients with acute drug overdose.",
         "(\"drug overdose\"[Mesh] OR > \"substance abuse, oral\"[Mesh] OR Poisoning[Mesh] OR \"substance-related disorders\"[Mesh] OR \"amphetamine-related disorders\"[Mesh] OR > \"cocaine-related disorders\"[Mesh] OR \"Sodium Oxybate\"[Mesh] OR > Overdose[tiab] OR \"Substance abuse\"[tiab] OR \"Toxic ingestion\"[tiab] > OR Toxicology[tiab] OR Sedation[tiab] OR Poisoning[tiab] OR GHB[tiab] > OR gamma-hydroxybutyrate[tiab] OR gamma-butyrolactone[tiab]) AND > (\"Emergency Service, Hospital\"[Mesh] OR \"Emergency Medicine\"[Mesh] OR > \"Poison Control Centers\"[Mesh] OR \"Triage\"[Mesh] OR Clinicians[tiab] > OR \"Emergency medicine\"[tiab] OR \"tertiary-care hospitals\"[tiab] OR > \"University hospital\"[tiab] OR ((emergency[tiab]) AND > (department*[tiab] OR room*[tiab] OR ward*[tiab] OR service*[tiab] OR > accident[tiab] OR ED[tiab])) OR \"A & E\"[tiab]) AND (\"Airway > Management\"[Mesh] OR Capnography[Mesh] OR \"airway management\"[tiab] OR > \"rapid sequence induction\"[tiab] OR Intubation[tiab] OR Intubate[tiab] > OR intubated[tiab] OR \"observation unit\"[tiab])",
         "0.04319484175219573",
         "pubmed-searchrefiner"
        ],
        [
         "46",
         "Violent television viewing during preschool is associated with antisocial behavior during school age.",
         "(child* [mp] OR adolescen* [mp] OR preschool* [mp] OR youth [mp] OR young people [mp] OR school#children [mp] OR school#age* [mp] OR teen* [mp]) AND (computer* [mp] OR device* [mp] OR digital [mp] OR electronic media [mp] OR media [mp] OR screen* [mp] OR screen#time [mp] OR social media [mp] OR television [mp] OR tv [mp] OR video gam* [mp] OR tablet [mp] OR internet [mp] OR phone* [mp] OR sedentary behav* [mp] OR smartphone* [mp] OR online [mp] OR gaming [mp]) AND (baseline [mp] OR follow-up [mp] OR longitudinal [mp] OR prospective [mp] OR cohort [mp]) AND (aggressi* [mp] OR depress* [mp] OR emotion* [mp] OR mental health [mp] OR eating disorder* [mp] OR prosocial [mp] OR self*regulation [mp] OR psychosocial adjustment* OR anxiety [mp] OR self-esteem [mp] OR psychological well#being [mp] OR psychological distress [mp] OR externali?ing [mp] OR internali?ing [mp] OR socio-emotional [mp] OR hyperactivity [mp] OR attention problem* [mp] OR conduct problem* [mp] OR antisocial [mp] OR body image [mp])",
         "0.07368531828315741",
         "pubmed-searchrefiner"
        ],
        [
         "47",
         "Phototherapy in the treatment of acne vulgaris.",
         "((\"Acne Vulgaris\"[Mesh] OR Acne[tiab] OR Blackheads[tiab] OR Whiteheads[tiab] OR Pimples[tiab] OR Vulgaris[tiab] OR Lesion[tiab]) AND (\"Phototherapy\"[Mesh] OR \"Blue light\"[tiab] OR Phototherapy[tiab] OR Phototherapies[tiab] OR \"Photoradiation therapy\"[tiab] OR \"Photoradiation Therapies\"[tiab] OR \"Light Therapy\"[tiab] OR \"Light Therapies\"[tiab] OR Diode[tiab]))",
         "0.0038902186671232173",
         "pubmed-searchrefiner"
        ],
        [
         "48",
         "Professional Interpreter Use and Discharge Communication in the Pediatric Emergency Department.",
         "information AND discharge AND planning",
         "0.313162602703419",
         "pubmed-searchrefiner"
        ],
        [
         "49",
         "A blinded clinical study using a subepidermal moisture biocapacitance measurement device for early detection of pressure injuries.",
         "(\"Pressure Ulcer\"[Mesh] OR \"Pressure ulcer\"[tiab] OR \"Pressure ulcers\"[tiab] OR \"Pressure injuries\"[tiab] OR \"Pressure injury\"[tiab] OR \"Pressure injuries\"[tiab] OR \"Decubitus Ulcer\"[tiab] OR \"Decubitus Ulcers\"[tiab]) AND (Subepidermal[tiab] OR Sub-epidermal[tiab] OR \"Sub epidermal\"[tiab] OR SEM[tiab] OR Moisture[tiab] OR Fluid[tiab] OR Fluids[tiab]) ",
         "0.13918337897929733",
         "pubmed-searchrefiner"
        ]
       ],
       "shape": {
        "columns": 4,
        "rows": 3782
       }
      },
      "text/html": [
       "<div>\n",
       "<style scoped>\n",
       "    .dataframe tbody tr th:only-of-type {\n",
       "        vertical-align: middle;\n",
       "    }\n",
       "\n",
       "    .dataframe tbody tr th {\n",
       "        vertical-align: top;\n",
       "    }\n",
       "\n",
       "    .dataframe thead th {\n",
       "        text-align: right;\n",
       "    }\n",
       "</style>\n",
       "<table border=\"1\" class=\"dataframe\">\n",
       "  <thead>\n",
       "    <tr style=\"text-align: right;\">\n",
       "      <th></th>\n",
       "      <th>nl</th>\n",
       "      <th>bool</th>\n",
       "      <th>quality</th>\n",
       "      <th>source</th>\n",
       "    </tr>\n",
       "  </thead>\n",
       "  <tbody>\n",
       "    <tr>\n",
       "      <th>0</th>\n",
       "      <td>Education for contraceptive use by women after...</td>\n",
       "      <td>(\"Contraception\"[Mesh] OR \"Contraception Beha...</td>\n",
       "      <td>0.274709</td>\n",
       "      <td>raw-jsonl</td>\n",
       "    </tr>\n",
       "    <tr>\n",
       "      <th>1</th>\n",
       "      <td>Preprocedural mouth rinses for preventing tran...</td>\n",
       "      <td>((dental or dentist$ or hygienist$).mp. AND (...</td>\n",
       "      <td>0.549417</td>\n",
       "      <td>raw-jsonl</td>\n",
       "    </tr>\n",
       "    <tr>\n",
       "      <th>2</th>\n",
       "      <td>Clinical efficacy of home-use blue-light thera...</td>\n",
       "      <td>((\"Acne Vulgaris\"[Mesh] OR Acne[tiab] OR Pimpl...</td>\n",
       "      <td>0.013326</td>\n",
       "      <td>pubmed-searchrefiner</td>\n",
       "    </tr>\n",
       "    <tr>\n",
       "      <th>3</th>\n",
       "      <td>Randomized trial of three phototherapy methods...</td>\n",
       "      <td>((\"Acne Vulgaris\"[Mesh] OR Acne[tiab] OR Vulga...</td>\n",
       "      <td>0.010352</td>\n",
       "      <td>pubmed-searchrefiner</td>\n",
       "    </tr>\n",
       "    <tr>\n",
       "      <th>4</th>\n",
       "      <td>Development and implementation of an emergency...</td>\n",
       "      <td>(\"drug overdose\"[Mesh] OR Poisoning[Mesh] OR \"...</td>\n",
       "      <td>0.013469</td>\n",
       "      <td>pubmed-searchrefiner</td>\n",
       "    </tr>\n",
       "    <tr>\n",
       "      <th>...</th>\n",
       "      <td>...</td>\n",
       "      <td>...</td>\n",
       "      <td>...</td>\n",
       "      <td>...</td>\n",
       "    </tr>\n",
       "    <tr>\n",
       "      <th>3777</th>\n",
       "      <td>Treat-to-target in systemic lupus erythematosu...</td>\n",
       "      <td>((\"systemic lupus erythematosus\"[tw]) AND (LLD...</td>\n",
       "      <td>0.043195</td>\n",
       "      <td>pubmed-searchrefiner</td>\n",
       "    </tr>\n",
       "    <tr>\n",
       "      <th>3778</th>\n",
       "      <td>Sensitivity and specificity of polysomnographi...</td>\n",
       "      <td>(polysomnography[tiab] OR polysomnographic[tia...</td>\n",
       "      <td>0.125265</td>\n",
       "      <td>pubmed-searchrefiner</td>\n",
       "    </tr>\n",
       "    <tr>\n",
       "      <th>3779</th>\n",
       "      <td>Controlled Interventions to Reduce Burnout in ...</td>\n",
       "      <td>(\"healthcare staff\"[Title/Abstract] OR \"health...</td>\n",
       "      <td>0.062633</td>\n",
       "      <td>pubmed-searchrefiner</td>\n",
       "    </tr>\n",
       "    <tr>\n",
       "      <th>3780</th>\n",
       "      <td>Subepidermal moisture predicts erythema and st...</td>\n",
       "      <td>(\"Pressure Ulcer\"[Majr] OR \"pressure ulcer*\"[T...</td>\n",
       "      <td>0.250530</td>\n",
       "      <td>pubmed-searchrefiner</td>\n",
       "    </tr>\n",
       "    <tr>\n",
       "      <th>3781</th>\n",
       "      <td>Lifestyle advice to cancer survivors: a qualit...</td>\n",
       "      <td>perspective* OR perception* OR view* OR attitu...</td>\n",
       "      <td>0.008580</td>\n",
       "      <td>pubmed-searchrefiner</td>\n",
       "    </tr>\n",
       "  </tbody>\n",
       "</table>\n",
       "<p>3782 rows × 4 columns</p>\n",
       "</div>"
      ],
      "text/plain": [
       "                                                     nl  \\\n",
       "0     Education for contraceptive use by women after...   \n",
       "1     Preprocedural mouth rinses for preventing tran...   \n",
       "2     Clinical efficacy of home-use blue-light thera...   \n",
       "3     Randomized trial of three phototherapy methods...   \n",
       "4     Development and implementation of an emergency...   \n",
       "...                                                 ...   \n",
       "3777  Treat-to-target in systemic lupus erythematosu...   \n",
       "3778  Sensitivity and specificity of polysomnographi...   \n",
       "3779  Controlled Interventions to Reduce Burnout in ...   \n",
       "3780  Subepidermal moisture predicts erythema and st...   \n",
       "3781  Lifestyle advice to cancer survivors: a qualit...   \n",
       "\n",
       "                                                   bool   quality  \\\n",
       "0      (\"Contraception\"[Mesh] OR \"Contraception Beha...  0.274709   \n",
       "1      ((dental or dentist$ or hygienist$).mp. AND (...  0.549417   \n",
       "2     ((\"Acne Vulgaris\"[Mesh] OR Acne[tiab] OR Pimpl...  0.013326   \n",
       "3     ((\"Acne Vulgaris\"[Mesh] OR Acne[tiab] OR Vulga...  0.010352   \n",
       "4     (\"drug overdose\"[Mesh] OR Poisoning[Mesh] OR \"...  0.013469   \n",
       "...                                                 ...       ...   \n",
       "3777  ((\"systemic lupus erythematosus\"[tw]) AND (LLD...  0.043195   \n",
       "3778  (polysomnography[tiab] OR polysomnographic[tia...  0.125265   \n",
       "3779  (\"healthcare staff\"[Title/Abstract] OR \"health...  0.062633   \n",
       "3780  (\"Pressure Ulcer\"[Majr] OR \"pressure ulcer*\"[T...  0.250530   \n",
       "3781  perspective* OR perception* OR view* OR attitu...  0.008580   \n",
       "\n",
       "                    source  \n",
       "0                raw-jsonl  \n",
       "1                raw-jsonl  \n",
       "2     pubmed-searchrefiner  \n",
       "3     pubmed-searchrefiner  \n",
       "4     pubmed-searchrefiner  \n",
       "...                    ...  \n",
       "3777  pubmed-searchrefiner  \n",
       "3778  pubmed-searchrefiner  \n",
       "3779  pubmed-searchrefiner  \n",
       "3780  pubmed-searchrefiner  \n",
       "3781  pubmed-searchrefiner  \n",
       "\n",
       "[3782 rows x 4 columns]"
      ]
     },
     "execution_count": 8,
     "metadata": {},
     "output_type": "execute_result"
    }
   ],
   "source": [
    "N = 1000\n",
    "df = pd.DataFrame({\n",
    "    \"nl\": dataset[\"train\"][\"nl_query\"],\n",
    "    \"bool\": dataset[\"train\"][\"bool_query\"],\n",
    "    \"quality\": dataset[\"train\"][\"quality\"],\n",
    "    \"source\": dataset[\"train\"][\"source\"]\n",
    "})\n",
    "df = df.sample(min(N, df.shape[0])).reset_index(drop=True)\n",
    "df"
   ]
  },
  {
   "cell_type": "code",
   "execution_count": null,
   "id": "50b18536",
   "metadata": {},
   "outputs": [],
   "source": [
    "model = DualSiglip2Model('BAAI/bge-small-en-v1.5', loss_type=\"clip\")\n",
    "\n",
    "embeddings = model.encode_text(df[\"nl\"].tolist()).detach().cpu().numpy()\n",
    "\n",
    "tsne = TSNE(n_components=2,\n",
    "            perplexity=30,\n",
    "            learning_rate=200,\n",
    "            n_iter=1000,\n",
    "            random_state=42,\n",
    "            init=\"pca\")\n",
    "coords = tsne.fit_transform(embeddings)\n",
    "\n",
    "df[\"x\"] = coords[:,0]\n",
    "df[\"y\"] = coords[:,1]\n",
    "\n",
    "fig = px.scatter(\n",
    "    df, x=\"x\", y=\"y\",\n",
    "    color=\"source\",               # color by data source\n",
    "    # size=\"quality\",               # optionally size by quality score\n",
    "    hover_data={\n",
    "        \"nl\": True,               # show the NL query on hover\n",
    "        \"bool\": True,             # show the bool query\n",
    "        \"quality\": True,\n",
    "        \"x\": False, \"y\": False\n",
    "    },\n",
    "    title=f\"t-SNE of {N} Text Embeddings\"\n",
    ")\n",
    "\n",
    "fig.update_traces(marker=dict(opacity=0.7, line_width=0.5))\n",
    "fig.update_layout(width=800, height=600)\n",
    "fig.show()"
   ]
  }
 ],
 "metadata": {
  "kernelspec": {
   "display_name": "RP",
   "language": "python",
   "name": "python3"
  },
  "language_info": {
   "codemirror_mode": {
    "name": "ipython",
    "version": 3
   },
   "file_extension": ".py",
   "mimetype": "text/x-python",
   "name": "python",
   "nbconvert_exporter": "python",
   "pygments_lexer": "ipython3",
   "version": "3.11.11"
  }
 },
 "nbformat": 4,
 "nbformat_minor": 5
}
