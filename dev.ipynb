{
 "cells": [
  {
   "cell_type": "code",
   "execution_count": 1,
   "id": "39557edc",
   "metadata": {},
   "outputs": [
    {
     "name": "stderr",
     "output_type": "stream",
     "text": [
      "c:\\Users\\Simon\\miniconda3\\envs\\RP\\Lib\\site-packages\\tqdm\\auto.py:21: TqdmWarning: IProgress not found. Please update jupyter and ipywidgets. See https://ipywidgets.readthedocs.io/en/stable/user_install.html\n",
      "  from .autonotebook import tqdm as notebook_tqdm\n"
     ]
    }
   ],
   "source": [
    "import torch\n",
    "import torch.nn as nn\n",
    "import torch.nn.functional as F\n",
    "from copy import deepcopy\n",
    "from transformers import AutoTokenizer, Siglip2TextModel\n",
    "\n",
    "device = \"cuda\" if torch.cuda.is_available() else \"cpu\"\n",
    "\n",
    "class DualSiglip2Model(nn.Module):\n",
    "    def __init__(self, model_name=\"google/siglip2-base-patch16-224\"):\n",
    "        super().__init__()\n",
    "        self.tokenizer = AutoTokenizer.from_pretrained(model_name)\n",
    "        self.encoder_a = Siglip2TextModel.from_pretrained(model_name)\n",
    "        self.encoder_b = deepcopy(self.encoder_a)\n",
    "        self.bias = nn.Parameter(torch.zeros(1))\n",
    "        self.to(device)\n",
    "\n",
    "    def tokenize(self, texts):\n",
    "        return self.tokenizer(texts, padding=\"max_length\", truncation=True, return_tensors=\"pt\", max_length=64).to(device)\n",
    "\n",
    "    def embed(self, texts, encoder):\n",
    "        inputs = self.tokenize(texts)\n",
    "        outputs = encoder(**inputs)\n",
    "        return F.normalize(outputs.pooler_output)\n",
    "\n",
    "# https://github.com/huggingface/transformers/blob/main/src/transformers/models/siglip2/modeling_siglip2.py#L952\n",
    "    def forward(self, a, b):\n",
    "        a = self.encoder_a(a).pooler_output\n",
    "        b = self.encoder_b(b).pooler_output\n",
    "        a = a / a.norm(p=2, dim=-1, keepdim=True)\n",
    "        b = b / b.norm(p=2, dim=-1, keepdim=True)\n",
    "        loss = self.loss(a, b)\n",
    "        logits = a @ b.t() + self.bias\n",
    "        return {\"loss\": loss, \"logits\": logits}\n",
    "\n",
    "    def loss(self, emb_a, emb_b):\n",
    "        sim = emb_a @ emb_b.t() + self.bias\n",
    "        eye = torch.eye(sim.size(0), device=sim.device)\n",
    "        y = -torch.ones_like(sim)\n",
    "        y = y + 2 * eye\n",
    "        loglik = F.logsigmoid(y * sim)\n",
    "        nll = -torch.sum(loglik, dim=-1)\n",
    "        loss = nll.mean()\n",
    "        return loss"
   ]
  },
  {
   "cell_type": "code",
   "execution_count": 2,
   "id": "8a491c33",
   "metadata": {},
   "outputs": [
    {
     "name": "stderr",
     "output_type": "stream",
     "text": [
      "You are using a model of type siglip_text_model to instantiate a model of type siglip2_text_model. This is not supported for all configurations of models and can yield errors.\n",
      "Map: 100%|██████████| 6100/6100 [00:06<00:00, 899.63 examples/s] \n",
      "Map: 100%|██████████| 1525/1525 [00:01<00:00, 867.51 examples/s]\n"
     ]
    }
   ],
   "source": [
    "from datasets import load_dataset, DatasetDict\n",
    "\n",
    "def create_splits(dataset):\n",
    "    ds_train_devtest = dataset.train_test_split(test_size=0.2, seed=42)\n",
    "    ds_devtest = ds_train_devtest['test'].train_test_split(test_size=0.5, seed=42)\n",
    "\n",
    "    ds_splits = DatasetDict({\n",
    "        'train': ds_train_devtest['train'],\n",
    "        'valid': ds_devtest['train'],\n",
    "        'test': ds_devtest['test']\n",
    "    })\n",
    "    return ds_splits\n",
    "\n",
    "def shuffle_pairs(split, key_a='q', key_b='d'):\n",
    "    shuffled = split.shuffle(seed=42)\n",
    "    return split.map(\n",
    "        lambda example, idx: {\n",
    "            key_a: example[key_a],\n",
    "            key_b: shuffled[idx][key_b],\n",
    "        },\n",
    "        with_indices=True,\n",
    "    )\n",
    "\n",
    "dataset = load_dataset(\"data\", split=\"train\")\n",
    "\n",
    "data = dataset.train_test_split(test_size=0.2, seed=42)\n",
    "\n",
    "model = DualSiglip2Model()\n",
    "\n",
    "def preprocess(example):\n",
    "    t1 = model.tokenize(example[\"q\"])\n",
    "    t2 = model.tokenize(example[\"d\"])\n",
    "    return {\"q\": t1, \"d\": t2}\n",
    "\n",
    "data = data.map(preprocess)"
   ]
  },
  {
   "cell_type": "code",
   "execution_count": 3,
   "id": "95cf2cb3",
   "metadata": {},
   "outputs": [
    {
     "data": {
      "text/html": [
       "\n",
       "    <div>\n",
       "      \n",
       "      <progress value='382' max='191' style='width:300px; height:20px; vertical-align: middle;'></progress>\n",
       "      [191/191 04:05]\n",
       "    </div>\n",
       "    "
      ],
      "text/plain": [
       "<IPython.core.display.HTML object>"
      ]
     },
     "metadata": {},
     "output_type": "display_data"
    },
    {
     "name": "stdout",
     "output_type": "stream",
     "text": [
      "{'eval_model_preparation_time': 0.0025, 'eval_runtime': 3.2022, 'eval_samples_per_second': 476.239, 'eval_steps_per_second': 59.647}\n"
     ]
    },
    {
     "data": {
      "text/html": [
       "\n",
       "    <div>\n",
       "      \n",
       "      <progress value='1000' max='1000' style='width:300px; height:20px; vertical-align: middle;'></progress>\n",
       "      [1000/1000 03:58, Epoch 0/1]\n",
       "    </div>\n",
       "    <table border=\"1\" class=\"dataframe\">\n",
       "  <thead>\n",
       " <tr style=\"text-align: left;\">\n",
       "      <th>Step</th>\n",
       "      <th>Training Loss</th>\n",
       "    </tr>\n",
       "  </thead>\n",
       "  <tbody>\n",
       "    <tr>\n",
       "      <td>100</td>\n",
       "      <td>0.314000</td>\n",
       "    </tr>\n",
       "    <tr>\n",
       "      <td>200</td>\n",
       "      <td>0.311500</td>\n",
       "    </tr>\n",
       "    <tr>\n",
       "      <td>300</td>\n",
       "      <td>0.310400</td>\n",
       "    </tr>\n",
       "    <tr>\n",
       "      <td>400</td>\n",
       "      <td>0.309400</td>\n",
       "    </tr>\n",
       "    <tr>\n",
       "      <td>500</td>\n",
       "      <td>0.308600</td>\n",
       "    </tr>\n",
       "    <tr>\n",
       "      <td>600</td>\n",
       "      <td>0.308000</td>\n",
       "    </tr>\n",
       "    <tr>\n",
       "      <td>700</td>\n",
       "      <td>0.307400</td>\n",
       "    </tr>\n",
       "    <tr>\n",
       "      <td>800</td>\n",
       "      <td>0.307000</td>\n",
       "    </tr>\n",
       "    <tr>\n",
       "      <td>900</td>\n",
       "      <td>0.306800</td>\n",
       "    </tr>\n",
       "    <tr>\n",
       "      <td>1000</td>\n",
       "      <td>0.306600</td>\n",
       "    </tr>\n",
       "  </tbody>\n",
       "</table><p>"
      ],
      "text/plain": [
       "<IPython.core.display.HTML object>"
      ]
     },
     "metadata": {},
     "output_type": "display_data"
    },
    {
     "name": "stdout",
     "output_type": "stream",
     "text": [
      "{'eval_model_preparation_time': 0.0025, 'eval_runtime': 3.2995, 'eval_samples_per_second': 462.191, 'eval_steps_per_second': 57.888, 'epoch': 0.16393442622950818}\n"
     ]
    }
   ],
   "source": [
    "from transformers import Trainer, TrainingArguments\n",
    "\n",
    "training_args = TrainingArguments(\n",
    "    output_dir=\"./siglip2\",\n",
    "    per_device_train_batch_size=1,\n",
    "    num_train_epochs=3,\n",
    "    learning_rate=5e-5,\n",
    "    weight_decay=0.01,\n",
    "    logging_steps=100,\n",
    "    save_steps=100,\n",
    "    save_total_limit=2,\n",
    "    remove_unused_columns=False,\n",
    "    max_steps=1000,\n",
    "    # bf16=True,\n",
    "    # optim=\"adamw_bnb_8bit\",\n",
    "    # torch_compile=True,\n",
    "    # torch_compile_backend=\"inductor\"\n",
    ")\n",
    "\n",
    "def collate_fn(batch):\n",
    "    d = {\n",
    "        \"a\": torch.tensor([ex[\"q\"][\"input_ids\"] for ex in batch]),\n",
    "        \"b\": torch.tensor([ex[\"d\"][\"input_ids\"] for ex in batch]),\n",
    "    }\n",
    "    return d\n",
    "\n",
    "trainer = Trainer(\n",
    "    model,\n",
    "    training_args,\n",
    "    train_dataset=data[\"train\"],\n",
    "    eval_dataset=data[\"test\"],\n",
    "    data_collator=collate_fn,\n",
    ")\n",
    "\n",
    "print(trainer.evaluate())\n",
    "\n",
    "trainer.train()\n",
    "\n",
    "print(trainer.evaluate())"
   ]
  }
 ],
 "metadata": {
  "kernelspec": {
   "display_name": "RP",
   "language": "python",
   "name": "python3"
  },
  "language_info": {
   "codemirror_mode": {
    "name": "ipython",
    "version": 3
   },
   "file_extension": ".py",
   "mimetype": "text/x-python",
   "name": "python",
   "nbconvert_exporter": "python",
   "pygments_lexer": "ipython3",
   "version": "3.11.11"
  }
 },
 "nbformat": 4,
 "nbformat_minor": 5
}
