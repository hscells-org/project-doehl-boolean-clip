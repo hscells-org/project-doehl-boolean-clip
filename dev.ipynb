{
 "cells": [
  {
   "cell_type": "code",
   "execution_count": 10,
   "id": "44062855",
   "metadata": {},
   "outputs": [],
   "source": [
    "import pandas as pd\n",
    "from datasets import Dataset, DatasetDict\n",
    "from sklearn.model_selection import train_test_split\n",
    "\n",
    "df = pd.read_json(\"data/training-logs.jsonl\", lines=True)\n",
    "test_dfs = []\n",
    "train_dfs = []\n",
    "\n",
    "for quality, group in df.groupby(\"quality\"):\n",
    "    train_part, test_part = train_test_split(group, test_size=0.1, random_state=42)\n",
    "    train_dfs.append(train_part)\n",
    "    test_dfs.append(test_part)\n",
    "\n",
    "train_df = pd.concat(train_dfs).reset_index(drop=True)\n",
    "test_df = pd.concat(test_dfs).reset_index(drop=True)\n",
    "\n",
    "train_dataset = Dataset.from_pandas(train_df)\n",
    "test_dataset = Dataset.from_pandas(test_df)\n",
    "test_datasets = [Dataset.from_pandas(df) for df in test_dfs]\n",
    "dataset_dict = DatasetDict({\n",
    "    \"train\": train_dataset,\n",
    "    \"test\": test_dataset\n",
    "})"
   ]
  },
  {
   "cell_type": "code",
   "execution_count": null,
   "id": "417eeb45",
   "metadata": {},
   "outputs": [],
   "source": [
    "from process_data import process_searchrefiner_logs\n",
    "import json\n",
    "\n",
    "with open(\"./data/training-logs.jsonl\", \"w\") as f:\n",
    "    for item in process_searchrefiner_logs():\n",
    "        f.write(json.dumps(item) + \"\\n\")"
   ]
  }
 ],
 "metadata": {
  "kernelspec": {
   "display_name": "RP",
   "language": "python",
   "name": "python3"
  },
  "language_info": {
   "codemirror_mode": {
    "name": "ipython",
    "version": 3
   },
   "file_extension": ".py",
   "mimetype": "text/x-python",
   "name": "python",
   "nbconvert_exporter": "python",
   "pygments_lexer": "ipython3",
   "version": "3.11.11"
  }
 },
 "nbformat": 4,
 "nbformat_minor": 5
}
