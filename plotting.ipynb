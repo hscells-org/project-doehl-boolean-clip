{
 "cells": [
  {
   "cell_type": "code",
   "execution_count": null,
   "id": "3a2f4040",
   "metadata": {},
   "outputs": [],
   "source": [
    "%load_ext autoreload\n",
    "%autoreload 2\n",
    "\n",
    "import pandas as pd\n",
    "\n",
    "paths = [\n",
    "    \"data/training.jsonl\",\n",
    "    \"data/TAR_data.jsonl\",\n",
    "    \"data/sysrev_conv.jsonl\",\n",
    "]\n",
    "dataset = []\n",
    "for path in paths:\n",
    "    df = pd.read_json(path, lines=True)\n",
    "    dataset.append(df)\n",
    "\n",
    "dataset = pd.concat(dataset)\n",
    "# dataset = dataset[dataset[\"nl_query\"] != \"\"]\n",
    "dataset"
   ]
  },
  {
   "cell_type": "code",
   "execution_count": null,
   "id": "344bac4c",
   "metadata": {},
   "outputs": [],
   "source": [
    "dataset[dataset[\"nl_query\"].isna()]"
   ]
  },
  {
   "cell_type": "code",
   "execution_count": null,
   "id": "31ca2e20",
   "metadata": {},
   "outputs": [],
   "source": [
    "dataset[dataset[\"nl_query\"] == \"\"]"
   ]
  },
  {
   "cell_type": "code",
   "execution_count": null,
   "id": "e7d83ca4",
   "metadata": {},
   "outputs": [],
   "source": [
    "N = 10000\n",
    "df = dataset.sample(min(N, dataset.shape[0])).reset_index(drop=True)\n",
    "df"
   ]
  },
  {
   "cell_type": "code",
   "execution_count": null,
   "id": "5e19b941",
   "metadata": {},
   "outputs": [],
   "source": [
    "import nltk\n",
    "import numpy as np\n",
    "\n",
    "nltk.download(\"words\")\n",
    "words = nltk.corpus.words.words()\n",
    "words = np.random.choice(words, 10000).tolist()"
   ]
  },
  {
   "cell_type": "code",
   "execution_count": null,
   "id": "09bedeba",
   "metadata": {},
   "outputs": [],
   "source": [
    "import torch\n",
    "from utils.boolrank import DualSiglip2Model\n",
    "\n",
    "model = DualSiglip2Model('BAAI/bge-small-en-v1.5')\n",
    "model.load(r\"models\\clip\\bge-small-en-v1.5\\b16_lr1E-05_(pubmed-que_pubmed-sea_raw-jsonl)^4\\checkpoint-11288\\model.safetensors\")\n",
    "# model = DualSiglip2Model('dmis-lab/biobert-v1.1')\n",
    "# model.load(r\"models\\clip\\biobert-v1.1\\b16_lr1E-05_(pubmed-que_pubmed-sea_raw-jsonl)^4\\checkpoint-14110\\model.safetensors\")\n",
    "\n",
    "embeddings = model.encode_bool(df[\"bool_query\"].tolist(), batch_size=200).detach().cpu().numpy()\n",
    "# embeddings = model.encode_text(words, batch_size=200).detach().cpu().numpy()\n",
    "torch.cuda.empty_cache()"
   ]
  },
  {
   "cell_type": "code",
   "execution_count": null,
   "id": "50b18536",
   "metadata": {},
   "outputs": [],
   "source": [
    "import umap\n",
    "\n",
    "um = umap.UMAP(n_neighbors=15, n_components=3)\n",
    "trans = um.fit_transform(embeddings)\n",
    "\n",
    "x = trans[:,0]\n",
    "y = trans[:,1]\n",
    "z = trans[:,2]\n",
    "df[\"x\"] = x\n",
    "df[\"y\"] = y\n",
    "\n",
    "def cutoff(n): return lambda x: x if len(x) < n else x[:n] + \"...\"\n",
    "cut = 60\n",
    "df[\"nl\"] = df[\"nl_query\"].map(cutoff(cut))\n",
    "df[\"bool\"] = df[\"bool_query\"].map(cutoff(cut))"
   ]
  },
  {
   "cell_type": "code",
   "execution_count": null,
   "id": "d718f939",
   "metadata": {},
   "outputs": [],
   "source": [
    "query = dataset.iloc[10][\"nl_query\"]\n",
    "# query = \"cancer\"\n",
    "query_emb = model.encode_text(query).detach().cpu().numpy()\n",
    "query"
   ]
  },
  {
   "cell_type": "code",
   "execution_count": null,
   "id": "2e98bdbc",
   "metadata": {},
   "outputs": [],
   "source": [
    "similarity = model.get_similarities(embeddings, query_emb).numpy()\n",
    "df[\"sim\"] = similarity\n",
    "df[\"sim\"].values"
   ]
  },
  {
   "cell_type": "code",
   "execution_count": null,
   "id": "341b1de7",
   "metadata": {},
   "outputs": [],
   "source": [
    "top_n = (-similarity).argsort()[:100]\n",
    "mask = np.zeros_like(similarity)\n",
    "# bool_mask = mask + 1\n",
    "# bool_mask[top_n] = 0\n",
    "mask[top_n] = 0.9\n",
    "mask += 0.01"
   ]
  },
  {
   "cell_type": "code",
   "execution_count": null,
   "id": "cf1f3a34",
   "metadata": {},
   "outputs": [],
   "source": [
    "import plotly.graph_objects as go\n",
    "\n",
    "fig = go.Figure()\n",
    "fig.add_trace(\n",
    "    go.Scatter(\n",
    "        x=df.x,\n",
    "        y=df.y,\n",
    "        mode='markers',\n",
    "        marker=dict(\n",
    "            opacity=mask,\n",
    "            ),\n",
    "        fillpattern=dict(\n",
    "            fillmode=\"overlay\"\n",
    "        ),\n",
    "        hovertext=df[\"bool\"]\n",
    "    )\n",
    ")\n",
    "\n",
    "fig.update_layout(width=1000, height=700)\n",
    "fig.show()"
   ]
  }
 ],
 "metadata": {
  "kernelspec": {
   "display_name": "RP",
   "language": "python",
   "name": "python3"
  },
  "language_info": {
   "codemirror_mode": {
    "name": "ipython",
    "version": 3
   },
   "file_extension": ".py",
   "mimetype": "text/x-python",
   "name": "python",
   "nbconvert_exporter": "python",
   "pygments_lexer": "ipython3",
   "version": "3.11.11"
  }
 },
 "nbformat": 4,
 "nbformat_minor": 5
}
